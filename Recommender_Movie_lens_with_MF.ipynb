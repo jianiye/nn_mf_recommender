{
  "cells": [
    {
      "cell_type": "code",
      "source": [
        "import pickle\n",
        "import numpy as np\n",
        "import pandas as pd\n",
        "import matplotlib.pyplot as plt\n",
        "from sklearn.utils import shuffle\n",
        "import datasets\n",
        "import json\n",
        "\n",
        "import numpy as np\n",
        "import pandas as pd\n",
        "import torch\n",
        "from torch import nn\n",
        "from tqdm import tqdm"
      ],
      "metadata": {
        "id": "UFbVjvg_JtmC"
      },
      "execution_count": 1,
      "outputs": []
    },
    {
      "cell_type": "markdown",
      "source": [
        "## Data preprocessing"
      ],
      "metadata": {
        "id": "NLdAPmsUXOVB"
      }
    },
    {
      "cell_type": "code",
      "execution_count": 2,
      "metadata": {
        "colab": {
          "base_uri": "https://localhost:8080/"
        },
        "id": "9t45jgkjm4eT",
        "outputId": "2a4a5b71-6114-4b0f-c355-d6b5af81fc73"
      },
      "outputs": [
        {
          "output_type": "stream",
          "name": "stdout",
          "text": [
            "Downloading movielens data...\n"
          ]
        }
      ],
      "source": [
        "print(\"Downloading movielens data...\")\n",
        "from urllib.request import urlretrieve\n",
        "import zipfile\n",
        "\n",
        "# Download the data\n",
        "urlretrieve(\"http://files.grouplens.org/datasets/movielens/ml-20m.zip\", \"movielens.zip\")\n",
        "zip_ref = zipfile.ZipFile('movielens.zip', \"r\")\n",
        "zip_ref.extractall()\n"
      ]
    },
    {
      "cell_type": "code",
      "source": [
        "# load in the data\n",
        "df = pd.read_csv('ml-20m/ratings.csv')"
      ],
      "metadata": {
        "colab": {
          "base_uri": "https://localhost:8080/"
        },
        "id": "94nkxGT1RXxP",
        "outputId": "5edbd779-34f2-4607-9bde-4c2132944cd5"
      },
      "execution_count": 3,
      "outputs": [
        {
          "output_type": "stream",
          "name": "stdout",
          "text": [
            "ml-100k  ml-20m  movielens.zip\tsample_data\n"
          ]
        }
      ]
    },
    {
      "cell_type": "code",
      "execution_count": 4,
      "metadata": {
        "id": "6mBuNqRLpvIG"
      },
      "outputs": [],
      "source": [
        "df.head()"
      ]
    },
    {
      "cell_type": "code",
      "source": [
        "# Customize dataset\n",
        "N = df.userId.max() + 1 # number of users\n",
        "M = df.movieId.max() + 1 # number of movies\n",
        "\n",
        "# split into train and test\n",
        "df = shuffle(df)\n",
        "cutoff = int(0.008*len(df))\n",
        "cutoffe = int(0.01*len(df))\n",
        "df_train = df.iloc[:cutoff]\n",
        "df_test = df.iloc[cutoff:cutoffe]\n",
        "\n",
        "# initialize variables\n",
        "K = 10 # latent dimensionality\n",
        "mu = df_train.rating.mean()\n"
      ],
      "metadata": {
        "id": "6ckgRCtYSHLQ"
      },
      "execution_count": 6,
      "outputs": []
    },
    {
      "cell_type": "code",
      "source": [
        "# with open(\"rating.json\", \"w\") as outfile:\n",
        "#     for u, m in zip(df.userId.values, df_train.movieId.values):\n",
        "#       j = {'user':s, 'movie':l}\n",
        "#       s = json.dumps(j)\n",
        "#       outfile.write(f\"{s}\\n\")"
      ],
      "metadata": {
        "id": "UE7uTV8wXXTa"
      },
      "execution_count": null,
      "outputs": []
    },
    {
      "cell_type": "code",
      "execution_count": 7,
      "metadata": {
        "id": "6rxQ74x5rZrb",
        "colab": {
          "base_uri": "https://localhost:8080/"
        },
        "outputId": "9d8c0eb3-7552-4577-dfcc-74231c6955e6"
      },
      "outputs": [
        {
          "output_type": "execute_result",
          "data": {
            "text/plain": [
              "(138494, 131263, 10, 160002, 20000263, 3.524280946488169)"
            ]
          },
          "metadata": {},
          "execution_count": 7
        }
      ],
      "source": [
        "N,M,K,len(df_train),len(df), mu"
      ]
    },
    {
      "cell_type": "code",
      "execution_count": 8,
      "metadata": {
        "id": "uEfJycQt42oQ",
        "colab": {
          "base_uri": "https://localhost:8080/",
          "height": 206
        },
        "outputId": "cb466215-47e9-4e1a-d1b7-122810d0cb3b"
      },
      "outputs": [
        {
          "output_type": "execute_result",
          "data": {
            "text/plain": [
              "          userId  movieId  rating   timestamp\n",
              "11979571   82721     2100     3.5  1258418120\n",
              "854706      5725     1485     2.5  1090589513\n",
              "7532431    51978     1287     4.0   942404793\n",
              "12204326   84316     1281     4.0   879418702\n",
              "311431      2126      608     4.0   941309835"
            ],
            "text/html": [
              "\n",
              "  <div id=\"df-8ab7d332-2650-478c-85f2-1d72e4f8efd5\">\n",
              "    <div class=\"colab-df-container\">\n",
              "      <div>\n",
              "<style scoped>\n",
              "    .dataframe tbody tr th:only-of-type {\n",
              "        vertical-align: middle;\n",
              "    }\n",
              "\n",
              "    .dataframe tbody tr th {\n",
              "        vertical-align: top;\n",
              "    }\n",
              "\n",
              "    .dataframe thead th {\n",
              "        text-align: right;\n",
              "    }\n",
              "</style>\n",
              "<table border=\"1\" class=\"dataframe\">\n",
              "  <thead>\n",
              "    <tr style=\"text-align: right;\">\n",
              "      <th></th>\n",
              "      <th>userId</th>\n",
              "      <th>movieId</th>\n",
              "      <th>rating</th>\n",
              "      <th>timestamp</th>\n",
              "    </tr>\n",
              "  </thead>\n",
              "  <tbody>\n",
              "    <tr>\n",
              "      <th>11979571</th>\n",
              "      <td>82721</td>\n",
              "      <td>2100</td>\n",
              "      <td>3.5</td>\n",
              "      <td>1258418120</td>\n",
              "    </tr>\n",
              "    <tr>\n",
              "      <th>854706</th>\n",
              "      <td>5725</td>\n",
              "      <td>1485</td>\n",
              "      <td>2.5</td>\n",
              "      <td>1090589513</td>\n",
              "    </tr>\n",
              "    <tr>\n",
              "      <th>7532431</th>\n",
              "      <td>51978</td>\n",
              "      <td>1287</td>\n",
              "      <td>4.0</td>\n",
              "      <td>942404793</td>\n",
              "    </tr>\n",
              "    <tr>\n",
              "      <th>12204326</th>\n",
              "      <td>84316</td>\n",
              "      <td>1281</td>\n",
              "      <td>4.0</td>\n",
              "      <td>879418702</td>\n",
              "    </tr>\n",
              "    <tr>\n",
              "      <th>311431</th>\n",
              "      <td>2126</td>\n",
              "      <td>608</td>\n",
              "      <td>4.0</td>\n",
              "      <td>941309835</td>\n",
              "    </tr>\n",
              "  </tbody>\n",
              "</table>\n",
              "</div>\n",
              "      <button class=\"colab-df-convert\" onclick=\"convertToInteractive('df-8ab7d332-2650-478c-85f2-1d72e4f8efd5')\"\n",
              "              title=\"Convert this dataframe to an interactive table.\"\n",
              "              style=\"display:none;\">\n",
              "        \n",
              "  <svg xmlns=\"http://www.w3.org/2000/svg\" height=\"24px\"viewBox=\"0 0 24 24\"\n",
              "       width=\"24px\">\n",
              "    <path d=\"M0 0h24v24H0V0z\" fill=\"none\"/>\n",
              "    <path d=\"M18.56 5.44l.94 2.06.94-2.06 2.06-.94-2.06-.94-.94-2.06-.94 2.06-2.06.94zm-11 1L8.5 8.5l.94-2.06 2.06-.94-2.06-.94L8.5 2.5l-.94 2.06-2.06.94zm10 10l.94 2.06.94-2.06 2.06-.94-2.06-.94-.94-2.06-.94 2.06-2.06.94z\"/><path d=\"M17.41 7.96l-1.37-1.37c-.4-.4-.92-.59-1.43-.59-.52 0-1.04.2-1.43.59L10.3 9.45l-7.72 7.72c-.78.78-.78 2.05 0 2.83L4 21.41c.39.39.9.59 1.41.59.51 0 1.02-.2 1.41-.59l7.78-7.78 2.81-2.81c.8-.78.8-2.07 0-2.86zM5.41 20L4 18.59l7.72-7.72 1.47 1.35L5.41 20z\"/>\n",
              "  </svg>\n",
              "      </button>\n",
              "      \n",
              "  <style>\n",
              "    .colab-df-container {\n",
              "      display:flex;\n",
              "      flex-wrap:wrap;\n",
              "      gap: 12px;\n",
              "    }\n",
              "\n",
              "    .colab-df-convert {\n",
              "      background-color: #E8F0FE;\n",
              "      border: none;\n",
              "      border-radius: 50%;\n",
              "      cursor: pointer;\n",
              "      display: none;\n",
              "      fill: #1967D2;\n",
              "      height: 32px;\n",
              "      padding: 0 0 0 0;\n",
              "      width: 32px;\n",
              "    }\n",
              "\n",
              "    .colab-df-convert:hover {\n",
              "      background-color: #E2EBFA;\n",
              "      box-shadow: 0px 1px 2px rgba(60, 64, 67, 0.3), 0px 1px 3px 1px rgba(60, 64, 67, 0.15);\n",
              "      fill: #174EA6;\n",
              "    }\n",
              "\n",
              "    [theme=dark] .colab-df-convert {\n",
              "      background-color: #3B4455;\n",
              "      fill: #D2E3FC;\n",
              "    }\n",
              "\n",
              "    [theme=dark] .colab-df-convert:hover {\n",
              "      background-color: #434B5C;\n",
              "      box-shadow: 0px 1px 3px 1px rgba(0, 0, 0, 0.15);\n",
              "      filter: drop-shadow(0px 1px 2px rgba(0, 0, 0, 0.3));\n",
              "      fill: #FFFFFF;\n",
              "    }\n",
              "  </style>\n",
              "\n",
              "      <script>\n",
              "        const buttonEl =\n",
              "          document.querySelector('#df-8ab7d332-2650-478c-85f2-1d72e4f8efd5 button.colab-df-convert');\n",
              "        buttonEl.style.display =\n",
              "          google.colab.kernel.accessAllowed ? 'block' : 'none';\n",
              "\n",
              "        async function convertToInteractive(key) {\n",
              "          const element = document.querySelector('#df-8ab7d332-2650-478c-85f2-1d72e4f8efd5');\n",
              "          const dataTable =\n",
              "            await google.colab.kernel.invokeFunction('convertToInteractive',\n",
              "                                                     [key], {});\n",
              "          if (!dataTable) return;\n",
              "\n",
              "          const docLinkHtml = 'Like what you see? Visit the ' +\n",
              "            '<a target=\"_blank\" href=https://colab.research.google.com/notebooks/data_table.ipynb>data table notebook</a>'\n",
              "            + ' to learn more about interactive tables.';\n",
              "          element.innerHTML = '';\n",
              "          dataTable['output_type'] = 'display_data';\n",
              "          await google.colab.output.renderOutput(dataTable, element);\n",
              "          const docLink = document.createElement('div');\n",
              "          docLink.innerHTML = docLinkHtml;\n",
              "          element.appendChild(docLink);\n",
              "        }\n",
              "      </script>\n",
              "    </div>\n",
              "  </div>\n",
              "  "
            ]
          },
          "metadata": {},
          "execution_count": 8
        }
      ],
      "source": [
        "df_train.iloc[0:5]"
      ]
    },
    {
      "cell_type": "code",
      "execution_count": 9,
      "metadata": {
        "id": "_bHnIbyDr_hV"
      },
      "outputs": [],
      "source": [
        "users = torch.tensor(df_train.userId.values)\n",
        "items = torch.tensor(df_train.movieId.values)\n",
        "ratings = torch.tensor(df_train.rating.values)"
      ]
    },
    {
      "cell_type": "code",
      "execution_count": 10,
      "metadata": {
        "id": "BBeas35o33I1",
        "colab": {
          "base_uri": "https://localhost:8080/"
        },
        "outputId": "cb739e2b-c1c8-4f0d-9429-9ca1917a3af7"
      },
      "outputs": [
        {
          "output_type": "stream",
          "name": "stdout",
          "text": [
            "UserItemEmbeddingNet(\n",
            "  (u): Embedding(138494, 10)\n",
            "  (m): Embedding(131263, 10)\n",
            "  (u_bias): Embedding(138494, 1)\n",
            "  (m_bias): Embedding(131263, 1)\n",
            ")\n"
          ]
        }
      ],
      "source": [
        "class UserItemEmbeddingNet(torch.nn.Module):\n",
        "    def __init__(self, n_users, n_items, k_factors, embedding_dropout = 0.02, hidden = 10, dropouts = 0.2):\n",
        "\n",
        "        super(UserItemEmbeddingNet, self).__init__()\n",
        "        self.u = torch.nn.Embedding(n_users, k_factors)\n",
        "        self.m = torch.nn.Embedding(n_items, k_factors)\n",
        "        self.u_bias = torch.nn.Embedding(n_users, 1)\n",
        "        self.m_bias = torch.nn.Embedding(n_items, 1)\n",
        "\n",
        "    def forward(self, users, items):\n",
        "        uembed = self.u(users)\n",
        "        membed = self.m(items)\n",
        "        ubias = self.u_bias(users)\n",
        "        mbias = self.m_bias(items)\n",
        "        umdot = torch.mul(uembed,membed)\n",
        "        umdot = torch.sum(umdot,1)\n",
        "        umdot = torch.reshape(umdot, (umdot.shape[0], 1))\n",
        "        output = torch.add(umdot, ubias)\n",
        "        output = torch.add(output, mbias)\n",
        "        output = output - mu\n",
        "        output = torch.flatten(output)\n",
        "        return output\n",
        "\n",
        "UserItemEmbeddingNet = UserItemEmbeddingNet(N, M, K)\n",
        "print(UserItemEmbeddingNet)"
      ]
    },
    {
      "cell_type": "code",
      "execution_count": 78,
      "metadata": {
        "id": "i8cej51N7mQg"
      },
      "outputs": [],
      "source": [
        "epochs = 1000\n",
        "bs = 128\n",
        "lr = 5.0\n",
        "reg = 0. # regularization penalty\n",
        "\n",
        "def fit():\n",
        "    for epoch in range(epochs):\n",
        "        pred = UserItemEmbeddingNet(users, items)\n",
        "        loss_func = torch.nn.MSELoss()\n",
        "        loss = loss_func(pred.float(), ratings.float())\n",
        "        optimizer = torch.optim.SGD(UserItemEmbeddingNet.parameters(), lr=lr, momentum=0.9)\n",
        "\n",
        "        if epoch%100==0:\n",
        "          print(\"Training epoch: \", epoch, loss.item())\n",
        "        optimizer.zero_grad()\n",
        "        loss.backward()\n",
        "        optimizer.step()\n",
        " "
      ]
    },
    {
      "cell_type": "code",
      "execution_count": 80,
      "metadata": {
        "id": "f_Gc8h-P7mEF",
        "colab": {
          "base_uri": "https://localhost:8080/"
        },
        "outputId": "da78f8f3-7c97-408c-876b-04082b3c5a07"
      },
      "outputs": [
        {
          "output_type": "stream",
          "name": "stdout",
          "text": [
            "Training epoch:  0 0.22769078612327576\n",
            "Training epoch:  100 0.22522272169589996\n",
            "Training epoch:  200 0.22279657423496246\n",
            "Training epoch:  300 0.22041136026382446\n",
            "Training epoch:  400 0.21806606650352478\n",
            "Training epoch:  500 0.21575985848903656\n",
            "Training epoch:  600 0.21349172294139862\n",
            "Training epoch:  700 0.2112608104944229\n",
            "Training epoch:  800 0.20906628668308258\n",
            "Training epoch:  900 0.20690733194351196\n"
          ]
        }
      ],
      "source": [
        "fit()"
      ]
    },
    {
      "cell_type": "code",
      "source": [
        "tusers = torch.tensor(df_test.userId.values)\n",
        "titems = torch.tensor(df_test.movieId.values)\n",
        "tratings = df_test.rating.values"
      ],
      "metadata": {
        "id": "dQbDP-BbLSKL"
      },
      "execution_count": 69,
      "outputs": []
    },
    {
      "cell_type": "code",
      "source": [
        "with torch.no_grad():\n",
        "    tpreds = UserItemEmbeddingNet(tusers, titems)"
      ],
      "metadata": {
        "id": "yEf0uQYtKo4w"
      },
      "execution_count": 37,
      "outputs": []
    },
    {
      "cell_type": "code",
      "source": [
        "tpreds"
      ],
      "metadata": {
        "colab": {
          "base_uri": "https://localhost:8080/"
        },
        "id": "R1AMfVXKLaVS",
        "outputId": "a834aa25-895f-41a8-aa9e-ab14a9af9fca"
      },
      "execution_count": 38,
      "outputs": [
        {
          "output_type": "execute_result",
          "data": {
            "text/plain": [
              "tensor([2.9075, 3.6170, 3.2106,  ..., 4.5088, 2.8524, 4.3815],\n",
              "       grad_fn=<ReshapeAliasBackward0>)"
            ]
          },
          "metadata": {},
          "execution_count": 38
        }
      ]
    },
    {
      "cell_type": "code",
      "source": [
        "tpredsfinal = tpreds.detach().numpy()\n",
        "#tpredsfinal = (tpredsfinal/0.5).astype(int)\n",
        "tpredsfinal = (tpredsfinal>3).astype(int)"
      ],
      "metadata": {
        "id": "kMNiG6ytMGas"
      },
      "execution_count": 70,
      "outputs": []
    },
    {
      "cell_type": "code",
      "source": [
        "#tratings = (tratings*2).astype(int)\n",
        "tratings = (tratings>3).astype(int)\n",
        "tratings, tpredsfinal"
      ],
      "metadata": {
        "colab": {
          "base_uri": "https://localhost:8080/"
        },
        "id": "O9dSzJgDLcFk",
        "outputId": "07187a47-17e5-4c88-e730-21c9e62996f5"
      },
      "execution_count": 71,
      "outputs": [
        {
          "output_type": "execute_result",
          "data": {
            "text/plain": [
              "(array([1, 0, 1, ..., 0, 0, 1]), array([0, 1, 1, ..., 1, 0, 1]))"
            ]
          },
          "metadata": {},
          "execution_count": 71
        }
      ]
    },
    {
      "cell_type": "code",
      "source": [
        "from sklearn.metrics import f1_score\n",
        "f1_score(tpredsfinal, tratings)"
      ],
      "metadata": {
        "colab": {
          "base_uri": "https://localhost:8080/"
        },
        "id": "N75YrEqiLdW9",
        "outputId": "4bdec3eb-d245-4e58-f5a8-338b71dc54bc"
      },
      "execution_count": 72,
      "outputs": [
        {
          "output_type": "execute_result",
          "data": {
            "text/plain": [
              "0.6145366093146774"
            ]
          },
          "metadata": {},
          "execution_count": 72
        }
      ]
    },
    {
      "cell_type": "code",
      "source": [],
      "metadata": {
        "id": "PciFev4jNGrU"
      },
      "execution_count": null,
      "outputs": []
    }
  ],
  "metadata": {
    "colab": {
      "collapsed_sections": [],
      "provenance": []
    },
    "kernelspec": {
      "display_name": "Python 3",
      "name": "python3"
    },
    "language_info": {
      "name": "python"
    }
  },
  "nbformat": 4,
  "nbformat_minor": 0
}