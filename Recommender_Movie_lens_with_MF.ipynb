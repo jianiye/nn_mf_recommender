{
  "cells": [
    {
      "cell_type": "code",
      "source": [
        "import pickle\n",
        "import numpy as np\n",
        "import pandas as pd\n",
        "import matplotlib.pyplot as plt\n",
        "from sklearn.utils import shuffle\n",
        "from torchvision import datasets\n",
        "from torch.utils.data import Dataset, DataLoader\n",
        "import json\n",
        "\n",
        "import numpy as np\n",
        "import pandas as pd\n",
        "import torch\n",
        "from torch import nn\n",
        "from tqdm import tqdm"
      ],
      "metadata": {
        "id": "UFbVjvg_JtmC"
      },
      "execution_count": 1,
      "outputs": []
    },
    {
      "cell_type": "markdown",
      "source": [
        "## Data preprocessing"
      ],
      "metadata": {
        "id": "NLdAPmsUXOVB"
      }
    },
    {
      "cell_type": "code",
      "execution_count": 2,
      "metadata": {
        "colab": {
          "base_uri": "https://localhost:8080/"
        },
        "id": "9t45jgkjm4eT",
        "outputId": "b9e078a7-c61d-4c64-f980-6dbc80794009"
      },
      "outputs": [
        {
          "output_type": "stream",
          "name": "stdout",
          "text": [
            "Downloading movielens data...\n"
          ]
        }
      ],
      "source": [
        "print(\"Downloading movielens data...\")\n",
        "from urllib.request import urlretrieve\n",
        "import zipfile\n",
        "\n",
        "# Download the data\n",
        "urlretrieve(\"http://files.grouplens.org/datasets/movielens/ml-20m.zip\", \"movielens.zip\")\n",
        "zip_ref = zipfile.ZipFile('movielens.zip', \"r\")\n",
        "zip_ref.extractall()\n"
      ]
    },
    {
      "cell_type": "code",
      "source": [
        "# load in the data\n",
        "df = pd.read_csv('ml-20m/ratings.csv')"
      ],
      "metadata": {
        "id": "94nkxGT1RXxP"
      },
      "execution_count": 3,
      "outputs": []
    },
    {
      "cell_type": "code",
      "execution_count": 4,
      "metadata": {
        "id": "6mBuNqRLpvIG",
        "colab": {
          "base_uri": "https://localhost:8080/",
          "height": 206
        },
        "outputId": "803366bd-da2a-47a4-b497-a3f693f9bd4c"
      },
      "outputs": [
        {
          "output_type": "execute_result",
          "data": {
            "text/plain": [
              "   userId  movieId  rating   timestamp\n",
              "0       1        2     3.5  1112486027\n",
              "1       1       29     3.5  1112484676\n",
              "2       1       32     3.5  1112484819\n",
              "3       1       47     3.5  1112484727\n",
              "4       1       50     3.5  1112484580"
            ],
            "text/html": [
              "\n",
              "  <div id=\"df-17c9c289-5c52-4f7b-a6db-510b598c2d53\">\n",
              "    <div class=\"colab-df-container\">\n",
              "      <div>\n",
              "<style scoped>\n",
              "    .dataframe tbody tr th:only-of-type {\n",
              "        vertical-align: middle;\n",
              "    }\n",
              "\n",
              "    .dataframe tbody tr th {\n",
              "        vertical-align: top;\n",
              "    }\n",
              "\n",
              "    .dataframe thead th {\n",
              "        text-align: right;\n",
              "    }\n",
              "</style>\n",
              "<table border=\"1\" class=\"dataframe\">\n",
              "  <thead>\n",
              "    <tr style=\"text-align: right;\">\n",
              "      <th></th>\n",
              "      <th>userId</th>\n",
              "      <th>movieId</th>\n",
              "      <th>rating</th>\n",
              "      <th>timestamp</th>\n",
              "    </tr>\n",
              "  </thead>\n",
              "  <tbody>\n",
              "    <tr>\n",
              "      <th>0</th>\n",
              "      <td>1</td>\n",
              "      <td>2</td>\n",
              "      <td>3.5</td>\n",
              "      <td>1112486027</td>\n",
              "    </tr>\n",
              "    <tr>\n",
              "      <th>1</th>\n",
              "      <td>1</td>\n",
              "      <td>29</td>\n",
              "      <td>3.5</td>\n",
              "      <td>1112484676</td>\n",
              "    </tr>\n",
              "    <tr>\n",
              "      <th>2</th>\n",
              "      <td>1</td>\n",
              "      <td>32</td>\n",
              "      <td>3.5</td>\n",
              "      <td>1112484819</td>\n",
              "    </tr>\n",
              "    <tr>\n",
              "      <th>3</th>\n",
              "      <td>1</td>\n",
              "      <td>47</td>\n",
              "      <td>3.5</td>\n",
              "      <td>1112484727</td>\n",
              "    </tr>\n",
              "    <tr>\n",
              "      <th>4</th>\n",
              "      <td>1</td>\n",
              "      <td>50</td>\n",
              "      <td>3.5</td>\n",
              "      <td>1112484580</td>\n",
              "    </tr>\n",
              "  </tbody>\n",
              "</table>\n",
              "</div>\n",
              "      <button class=\"colab-df-convert\" onclick=\"convertToInteractive('df-17c9c289-5c52-4f7b-a6db-510b598c2d53')\"\n",
              "              title=\"Convert this dataframe to an interactive table.\"\n",
              "              style=\"display:none;\">\n",
              "        \n",
              "  <svg xmlns=\"http://www.w3.org/2000/svg\" height=\"24px\"viewBox=\"0 0 24 24\"\n",
              "       width=\"24px\">\n",
              "    <path d=\"M0 0h24v24H0V0z\" fill=\"none\"/>\n",
              "    <path d=\"M18.56 5.44l.94 2.06.94-2.06 2.06-.94-2.06-.94-.94-2.06-.94 2.06-2.06.94zm-11 1L8.5 8.5l.94-2.06 2.06-.94-2.06-.94L8.5 2.5l-.94 2.06-2.06.94zm10 10l.94 2.06.94-2.06 2.06-.94-2.06-.94-.94-2.06-.94 2.06-2.06.94z\"/><path d=\"M17.41 7.96l-1.37-1.37c-.4-.4-.92-.59-1.43-.59-.52 0-1.04.2-1.43.59L10.3 9.45l-7.72 7.72c-.78.78-.78 2.05 0 2.83L4 21.41c.39.39.9.59 1.41.59.51 0 1.02-.2 1.41-.59l7.78-7.78 2.81-2.81c.8-.78.8-2.07 0-2.86zM5.41 20L4 18.59l7.72-7.72 1.47 1.35L5.41 20z\"/>\n",
              "  </svg>\n",
              "      </button>\n",
              "      \n",
              "  <style>\n",
              "    .colab-df-container {\n",
              "      display:flex;\n",
              "      flex-wrap:wrap;\n",
              "      gap: 12px;\n",
              "    }\n",
              "\n",
              "    .colab-df-convert {\n",
              "      background-color: #E8F0FE;\n",
              "      border: none;\n",
              "      border-radius: 50%;\n",
              "      cursor: pointer;\n",
              "      display: none;\n",
              "      fill: #1967D2;\n",
              "      height: 32px;\n",
              "      padding: 0 0 0 0;\n",
              "      width: 32px;\n",
              "    }\n",
              "\n",
              "    .colab-df-convert:hover {\n",
              "      background-color: #E2EBFA;\n",
              "      box-shadow: 0px 1px 2px rgba(60, 64, 67, 0.3), 0px 1px 3px 1px rgba(60, 64, 67, 0.15);\n",
              "      fill: #174EA6;\n",
              "    }\n",
              "\n",
              "    [theme=dark] .colab-df-convert {\n",
              "      background-color: #3B4455;\n",
              "      fill: #D2E3FC;\n",
              "    }\n",
              "\n",
              "    [theme=dark] .colab-df-convert:hover {\n",
              "      background-color: #434B5C;\n",
              "      box-shadow: 0px 1px 3px 1px rgba(0, 0, 0, 0.15);\n",
              "      filter: drop-shadow(0px 1px 2px rgba(0, 0, 0, 0.3));\n",
              "      fill: #FFFFFF;\n",
              "    }\n",
              "  </style>\n",
              "\n",
              "      <script>\n",
              "        const buttonEl =\n",
              "          document.querySelector('#df-17c9c289-5c52-4f7b-a6db-510b598c2d53 button.colab-df-convert');\n",
              "        buttonEl.style.display =\n",
              "          google.colab.kernel.accessAllowed ? 'block' : 'none';\n",
              "\n",
              "        async function convertToInteractive(key) {\n",
              "          const element = document.querySelector('#df-17c9c289-5c52-4f7b-a6db-510b598c2d53');\n",
              "          const dataTable =\n",
              "            await google.colab.kernel.invokeFunction('convertToInteractive',\n",
              "                                                     [key], {});\n",
              "          if (!dataTable) return;\n",
              "\n",
              "          const docLinkHtml = 'Like what you see? Visit the ' +\n",
              "            '<a target=\"_blank\" href=https://colab.research.google.com/notebooks/data_table.ipynb>data table notebook</a>'\n",
              "            + ' to learn more about interactive tables.';\n",
              "          element.innerHTML = '';\n",
              "          dataTable['output_type'] = 'display_data';\n",
              "          await google.colab.output.renderOutput(dataTable, element);\n",
              "          const docLink = document.createElement('div');\n",
              "          docLink.innerHTML = docLinkHtml;\n",
              "          element.appendChild(docLink);\n",
              "        }\n",
              "      </script>\n",
              "    </div>\n",
              "  </div>\n",
              "  "
            ]
          },
          "metadata": {},
          "execution_count": 4
        }
      ],
      "source": [
        "df.head()"
      ]
    },
    {
      "cell_type": "code",
      "source": [
        "bs = 128\n",
        "reg = 0. # regularization penalty\n"
      ],
      "metadata": {
        "id": "1SweopEqGg7X"
      },
      "execution_count": 6,
      "outputs": []
    },
    {
      "cell_type": "code",
      "source": [
        "# Customize dataset\n",
        "N = df.userId.max() + 1 # number of users\n",
        "M = df.movieId.max() + 1 # number of movies\n",
        "\n",
        "# split into train and test\n",
        "df = shuffle(df)\n",
        "df = df.iloc[:100000]\n",
        "cutoff = int(0.8*len(df))\n",
        "cutoffeval = int(0.9*len(df))\n",
        "df_train = df.iloc[:cutoff]\n",
        "df_eval = df.iloc[cutoff:cutoffeval]\n",
        "df_test = df.iloc[cutoffeval:]\n",
        "\n",
        "# initialize variables\n",
        "K = 10 # latent dimensionality\n",
        "mu = df_train.rating.mean()\n"
      ],
      "metadata": {
        "id": "6ckgRCtYSHLQ"
      },
      "execution_count": 7,
      "outputs": []
    },
    {
      "cell_type": "code",
      "execution_count": 8,
      "metadata": {
        "id": "6rxQ74x5rZrb",
        "colab": {
          "base_uri": "https://localhost:8080/"
        },
        "outputId": "a68dc3cc-0eda-4113-be52-36085679e9f2"
      },
      "outputs": [
        {
          "output_type": "execute_result",
          "data": {
            "text/plain": [
              "(138494, 131263, 10, 80000, 100000, 3.52466875)"
            ]
          },
          "metadata": {},
          "execution_count": 8
        }
      ],
      "source": [
        "N,M,K,len(df_train),len(df), mu"
      ]
    },
    {
      "cell_type": "code",
      "source": [
        "class ratingdataset(Dataset):\n",
        "  def __init__(self, df):\n",
        "    self.df = df\n",
        "    self.u = df.userId.values\n",
        "    self.m = df.movieId.values\n",
        "    self.r = df.rating.values\n",
        "    self.N = self.u.max() + 1\n",
        "    self.M = self.m.max() + 1\n",
        "\n",
        "  def __len__(self):\n",
        "    return len(self.u)\n",
        "  \n",
        "  def __getitem__(self, idx):\n",
        "    return [self.u[idx], self.m[idx]], self.r[idx]\n"
      ],
      "metadata": {
        "id": "_FEd3bmkAR8p"
      },
      "execution_count": 9,
      "outputs": []
    },
    {
      "cell_type": "code",
      "source": [
        "ratingData_train = ratingdataset(df_train)\n",
        "ratingData_eval = ratingdataset(df_eval)\n",
        "ratingData_test = ratingdataset(df_test)"
      ],
      "metadata": {
        "id": "hTn6R9OKBtN1"
      },
      "execution_count": 10,
      "outputs": []
    },
    {
      "cell_type": "code",
      "source": [
        "train_dataloader = DataLoader(ratingData_train, batch_size=bs, shuffle=True)\n",
        "eval_dataloader = DataLoader(ratingData_eval, batch_size=bs, shuffle=True)\n",
        "test_dataloader = DataLoader(ratingData_test, batch_size=bs, shuffle=True)"
      ],
      "metadata": {
        "id": "QU9a8sE390Bi"
      },
      "execution_count": 11,
      "outputs": []
    },
    {
      "cell_type": "code",
      "source": [
        "train_dataloader, eval_dataloader, test_dataloader"
      ],
      "metadata": {
        "colab": {
          "base_uri": "https://localhost:8080/"
        },
        "id": "UE7uTV8wXXTa",
        "outputId": "ab25c781-cc06-4788-bafa-849ee7e69635"
      },
      "execution_count": 12,
      "outputs": [
        {
          "output_type": "execute_result",
          "data": {
            "text/plain": [
              "(<torch.utils.data.dataloader.DataLoader at 0x7ff45b890c50>,\n",
              " <torch.utils.data.dataloader.DataLoader at 0x7ff45b890650>,\n",
              " <torch.utils.data.dataloader.DataLoader at 0x7ff45b8b2950>)"
            ]
          },
          "metadata": {},
          "execution_count": 12
        }
      ]
    },
    {
      "cell_type": "code",
      "execution_count": 13,
      "metadata": {
        "id": "_bHnIbyDr_hV"
      },
      "outputs": [],
      "source": [
        "# # direct data\n",
        "# users = torch.tensor(df_train.userId.values)\n",
        "# items = torch.tensor(df_train.movieId.values)\n",
        "# ratings = torch.tensor(df_train.rating.values)"
      ]
    },
    {
      "cell_type": "code",
      "execution_count": 71,
      "metadata": {
        "id": "BBeas35o33I1",
        "colab": {
          "base_uri": "https://localhost:8080/"
        },
        "outputId": "e823c7fc-ab5d-4a24-a8cd-33d5cca2b970"
      },
      "outputs": [
        {
          "output_type": "stream",
          "name": "stdout",
          "text": [
            "UserItemEmbeddingNet(\n",
            "  (u): Embedding(138494, 10)\n",
            "  (m): Embedding(131263, 10)\n",
            "  (u_bias): Embedding(138494, 1)\n",
            "  (m_bias): Embedding(131263, 1)\n",
            ")\n"
          ]
        }
      ],
      "source": [
        "class UserItemEmbeddingNet(torch.nn.Module):\n",
        "    def __init__(self, n_users, n_items, k_factors, embedding_dropout = 0.02, hidden = 10, dropouts = 0.2):\n",
        "\n",
        "        super(UserItemEmbeddingNet, self).__init__()\n",
        "        self.u = torch.nn.Embedding(n_users, k_factors)\n",
        "        self.m = torch.nn.Embedding(n_items, k_factors)\n",
        "        self.u_bias = torch.nn.Embedding(n_users, 1)\n",
        "        self.m_bias = torch.nn.Embedding(n_items, 1)\n",
        "\n",
        "    def forward(self, users, items):\n",
        "        uembed = self.u(users)\n",
        "        membed = self.m(items)\n",
        "        ubias = self.u_bias(users)\n",
        "        mbias = self.m_bias(items)\n",
        "        umdot = torch.mul(uembed,membed)\n",
        "        umdot = torch.sum(umdot,1)\n",
        "        umdot = torch.reshape(umdot, (umdot.shape[0], 1))\n",
        "        output = torch.add(umdot, ubias)\n",
        "        output = torch.add(output, mbias)\n",
        "        output = torch.flatten(output)\n",
        "        return output\n",
        "\n",
        "UserItemEmbeddingNet = UserItemEmbeddingNet(N, M, K)\n",
        "print(UserItemEmbeddingNet)"
      ]
    },
    {
      "cell_type": "code",
      "execution_count": 72,
      "metadata": {
        "id": "i8cej51N7mQg"
      },
      "outputs": [],
      "source": [
        "epochs = 100\n",
        "lr = 0.1\n",
        "min_valid_loss = np.inf\n",
        "\n",
        "def train_loop(epoch):\n",
        "    train_loss = 0.0\n",
        "    UserItemEmbeddingNet.train()\n",
        "    loss_func = torch.nn.MSELoss()\n",
        "    optimizer = torch.optim.SGD(UserItemEmbeddingNet.parameters(), lr=lr, momentum=0.9)\n",
        "    \n",
        "    for i, data in tqdm(enumerate(train_dataloader)):\n",
        "        inputs, labels = data\n",
        "        if torch.cuda.is_available():\n",
        "            inputs, labels = inputs.cuda(), labels.cuda()\n",
        "        users, items = inputs[0], inputs[1]\n",
        "\n",
        "        optimizer.zero_grad()\n",
        "        target = UserItemEmbeddingNet(users, items)\n",
        "        loss = loss_func(target.float(), labels.float())\n",
        "        #loss = loss_func(target, labels)\n",
        "        loss.backward()\n",
        "        optimizer.step()\n",
        "        train_loss += loss.item()\n",
        "    \n",
        "    valid_loss = 0.0\n",
        "    UserItemEmbeddingNet.eval()     # Optional when not using model Specific layer\n",
        "    for data in eval_dataloader:\n",
        "        inputs, labels = data\n",
        "        if torch.cuda.is_available():\n",
        "            inputs, labels =inputs.cuda(), labels.cuda()\n",
        "        users, items = inputs[0], inputs[1]\n",
        "        target = UserItemEmbeddingNet(users, items)\n",
        "        loss = loss_func(target.float(), labels.float())\n",
        "        valid_loss = loss.item() * len(inputs)\n",
        "\n",
        "    if epoch%1==0:\n",
        "        print(f'Epoch {epoch+1} \\t\\t Training Loss: {train_loss / len(train_dataloader)} \\t\\t Validation Loss: {valid_loss / len(eval_dataloader)}')\n",
        "    if min_valid_loss > valid_loss:\n",
        "        print(f\"Validation Loss Decreased({min_valid_loss:.6f}--->{valid_loss:.6f})\")\n",
        "        min_valid_loss = valid_loss\n",
        "        # Saving State Dict\n",
        "        # torch.save(UserItemEmbeddingNet.state_dict(), 'saved_UserItemEmbeddingNet.pth')\n",
        " "
      ]
    },
    {
      "cell_type": "code",
      "execution_count": 73,
      "metadata": {
        "id": "f_Gc8h-P7mEF",
        "colab": {
          "base_uri": "https://localhost:8080/"
        },
        "outputId": "0e37eda7-0235-404a-cd9a-40bfce3305c2"
      },
      "outputs": [
        {
          "output_type": "stream",
          "name": "stderr",
          "text": [
            "625it [00:09, 66.11it/s]\n"
          ]
        },
        {
          "output_type": "stream",
          "name": "stdout",
          "text": [
            "Epoch 1 \t\t Training Loss: 16.278217889404296 \t\t Validation Loss: 0.1296306320383579\n",
            "Validation Loss Decreased(inf--->10.240820)\n"
          ]
        },
        {
          "output_type": "stream",
          "name": "stderr",
          "text": [
            "625it [00:09, 67.92it/s]\n"
          ]
        },
        {
          "output_type": "stream",
          "name": "stdout",
          "text": [
            "Epoch 2 \t\t Training Loss: 5.1274379463195805 \t\t Validation Loss: 0.13241595256177685\n",
            "Validation Loss Decreased(inf--->10.460860)\n"
          ]
        },
        {
          "output_type": "stream",
          "name": "stderr",
          "text": [
            "625it [00:09, 68.73it/s]\n"
          ]
        },
        {
          "output_type": "stream",
          "name": "stdout",
          "text": [
            "Epoch 3 \t\t Training Loss: 2.835969461631775 \t\t Validation Loss: 0.33530387395544897\n",
            "Validation Loss Decreased(inf--->26.489006)\n"
          ]
        },
        {
          "output_type": "stream",
          "name": "stderr",
          "text": [
            "625it [00:09, 68.06it/s]\n"
          ]
        },
        {
          "output_type": "stream",
          "name": "stdout",
          "text": [
            "Epoch 4 \t\t Training Loss: 1.9089226495742797 \t\t Validation Loss: 0.07270767718930787\n",
            "Validation Loss Decreased(inf--->5.743906)\n"
          ]
        },
        {
          "output_type": "stream",
          "name": "stderr",
          "text": [
            "625it [00:09, 64.53it/s]\n"
          ]
        },
        {
          "output_type": "stream",
          "name": "stdout",
          "text": [
            "Epoch 5 \t\t Training Loss: 1.4429959988594054 \t\t Validation Loss: 0.15801371803766565\n",
            "Validation Loss Decreased(inf--->12.483084)\n"
          ]
        },
        {
          "output_type": "stream",
          "name": "stderr",
          "text": [
            "625it [00:11, 53.70it/s]\n"
          ]
        },
        {
          "output_type": "stream",
          "name": "stdout",
          "text": [
            "Epoch 6 \t\t Training Loss: 1.1728823084831237 \t\t Validation Loss: 0.1445103657396534\n",
            "Validation Loss Decreased(inf--->11.416319)\n"
          ]
        },
        {
          "output_type": "stream",
          "name": "stderr",
          "text": [
            "625it [00:09, 68.35it/s]\n"
          ]
        },
        {
          "output_type": "stream",
          "name": "stdout",
          "text": [
            "Epoch 7 \t\t Training Loss: 1.001054390335083 \t\t Validation Loss: 0.08530496645577346\n",
            "Validation Loss Decreased(inf--->6.739092)\n"
          ]
        },
        {
          "output_type": "stream",
          "name": "stderr",
          "text": [
            "625it [00:09, 68.18it/s]\n"
          ]
        },
        {
          "output_type": "stream",
          "name": "stdout",
          "text": [
            "Epoch 8 \t\t Training Loss: 0.8805606127738953 \t\t Validation Loss: 0.10050161578987218\n",
            "Validation Loss Decreased(inf--->7.939628)\n"
          ]
        },
        {
          "output_type": "stream",
          "name": "stderr",
          "text": [
            "625it [00:09, 68.58it/s]\n"
          ]
        },
        {
          "output_type": "stream",
          "name": "stdout",
          "text": [
            "Epoch 9 \t\t Training Loss: 0.7912198070049286 \t\t Validation Loss: 0.24769655058655557\n",
            "Validation Loss Decreased(inf--->19.568027)\n"
          ]
        },
        {
          "output_type": "stream",
          "name": "stderr",
          "text": [
            "625it [00:09, 68.88it/s]\n"
          ]
        },
        {
          "output_type": "stream",
          "name": "stdout",
          "text": [
            "Epoch 10 \t\t Training Loss: 0.721221734714508 \t\t Validation Loss: 0.13443911830081215\n",
            "Validation Loss Decreased(inf--->10.620690)\n"
          ]
        },
        {
          "output_type": "stream",
          "name": "stderr",
          "text": [
            "625it [00:09, 68.90it/s]\n"
          ]
        },
        {
          "output_type": "stream",
          "name": "stdout",
          "text": [
            "Epoch 11 \t\t Training Loss: 0.6631250200271607 \t\t Validation Loss: 0.08991682076755958\n",
            "Validation Loss Decreased(inf--->7.103429)\n"
          ]
        },
        {
          "output_type": "stream",
          "name": "stderr",
          "text": [
            "625it [00:08, 69.46it/s]\n"
          ]
        },
        {
          "output_type": "stream",
          "name": "stdout",
          "text": [
            "Epoch 12 \t\t Training Loss: 0.6142949531555176 \t\t Validation Loss: 0.2959504187861575\n",
            "Validation Loss Decreased(inf--->23.380083)\n"
          ]
        },
        {
          "output_type": "stream",
          "name": "stderr",
          "text": [
            "625it [00:09, 68.71it/s]\n"
          ]
        },
        {
          "output_type": "stream",
          "name": "stdout",
          "text": [
            "Epoch 13 \t\t Training Loss: 0.5726354340076446 \t\t Validation Loss: 0.16336646261094492\n",
            "Validation Loss Decreased(inf--->12.905951)\n"
          ]
        },
        {
          "output_type": "stream",
          "name": "stderr",
          "text": [
            "625it [00:09, 68.10it/s]\n"
          ]
        },
        {
          "output_type": "stream",
          "name": "stdout",
          "text": [
            "Epoch 14 \t\t Training Loss: 0.5351548596382141 \t\t Validation Loss: 0.2637282504311091\n",
            "Validation Loss Decreased(inf--->20.834532)\n"
          ]
        },
        {
          "output_type": "stream",
          "name": "stderr",
          "text": [
            "625it [00:09, 69.04it/s]\n"
          ]
        },
        {
          "output_type": "stream",
          "name": "stdout",
          "text": [
            "Epoch 15 \t\t Training Loss: 0.5013697620868682 \t\t Validation Loss: 0.09628277187105976\n",
            "Validation Loss Decreased(inf--->7.606339)\n"
          ]
        },
        {
          "output_type": "stream",
          "name": "stderr",
          "text": [
            "625it [00:09, 69.34it/s]\n"
          ]
        },
        {
          "output_type": "stream",
          "name": "stdout",
          "text": [
            "Epoch 16 \t\t Training Loss: 0.47160572144985197 \t\t Validation Loss: 0.3319547146181517\n",
            "Validation Loss Decreased(inf--->26.224422)\n"
          ]
        },
        {
          "output_type": "stream",
          "name": "stderr",
          "text": [
            "625it [00:09, 65.41it/s]\n"
          ]
        },
        {
          "output_type": "stream",
          "name": "stdout",
          "text": [
            "Epoch 17 \t\t Training Loss: 0.44365487034320833 \t\t Validation Loss: 0.2888496978373467\n",
            "Validation Loss Decreased(inf--->22.819126)\n"
          ]
        },
        {
          "output_type": "stream",
          "name": "stderr",
          "text": [
            "625it [00:09, 68.27it/s]\n"
          ]
        },
        {
          "output_type": "stream",
          "name": "stdout",
          "text": [
            "Epoch 18 \t\t Training Loss: 0.4184734686613083 \t\t Validation Loss: 0.26980832256848297\n",
            "Validation Loss Decreased(inf--->21.314857)\n"
          ]
        },
        {
          "output_type": "stream",
          "name": "stderr",
          "text": [
            "625it [00:10, 61.98it/s]\n"
          ]
        },
        {
          "output_type": "stream",
          "name": "stdout",
          "text": [
            "Epoch 19 \t\t Training Loss: 0.3953357293605804 \t\t Validation Loss: 0.1556469518927079\n",
            "Validation Loss Decreased(inf--->12.296109)\n"
          ]
        },
        {
          "output_type": "stream",
          "name": "stderr",
          "text": [
            "625it [00:09, 68.00it/s]\n"
          ]
        },
        {
          "output_type": "stream",
          "name": "stdout",
          "text": [
            "Epoch 20 \t\t Training Loss: 0.37398929646015167 \t\t Validation Loss: 0.1848246538186375\n",
            "Validation Loss Decreased(inf--->14.601148)\n"
          ]
        },
        {
          "output_type": "stream",
          "name": "stderr",
          "text": [
            "625it [00:09, 68.34it/s]\n"
          ]
        },
        {
          "output_type": "stream",
          "name": "stdout",
          "text": [
            "Epoch 21 \t\t Training Loss: 0.35375127081871033 \t\t Validation Loss: 0.1582296830189379\n",
            "Validation Loss Decreased(inf--->12.500145)\n"
          ]
        },
        {
          "output_type": "stream",
          "name": "stderr",
          "text": [
            "625it [00:09, 68.23it/s]\n"
          ]
        },
        {
          "output_type": "stream",
          "name": "stdout",
          "text": [
            "Epoch 22 \t\t Training Loss: 0.3356165489673614 \t\t Validation Loss: 0.2733043477505068\n",
            "Validation Loss Decreased(inf--->21.591043)\n"
          ]
        },
        {
          "output_type": "stream",
          "name": "stderr",
          "text": [
            "625it [00:09, 68.62it/s]\n"
          ]
        },
        {
          "output_type": "stream",
          "name": "stdout",
          "text": [
            "Epoch 23 \t\t Training Loss: 0.3179963798522949 \t\t Validation Loss: 0.228905400143394\n",
            "Validation Loss Decreased(inf--->18.083527)\n"
          ]
        },
        {
          "output_type": "stream",
          "name": "stderr",
          "text": [
            "625it [00:09, 68.51it/s]\n"
          ]
        },
        {
          "output_type": "stream",
          "name": "stdout",
          "text": [
            "Epoch 24 \t\t Training Loss: 0.3018479828834534 \t\t Validation Loss: 0.21051636225060572\n",
            "Validation Loss Decreased(inf--->16.630793)\n"
          ]
        },
        {
          "output_type": "stream",
          "name": "stderr",
          "text": [
            "625it [00:09, 65.77it/s]\n"
          ]
        },
        {
          "output_type": "stream",
          "name": "stdout",
          "text": [
            "Epoch 25 \t\t Training Loss: 0.28694780254364016 \t\t Validation Loss: 0.18295447434051126\n",
            "Validation Loss Decreased(inf--->14.453403)\n"
          ]
        },
        {
          "output_type": "stream",
          "name": "stderr",
          "text": [
            "625it [00:09, 67.75it/s]\n"
          ]
        },
        {
          "output_type": "stream",
          "name": "stdout",
          "text": [
            "Epoch 26 \t\t Training Loss: 0.27215624372959135 \t\t Validation Loss: 0.19389734388906746\n",
            "Validation Loss Decreased(inf--->15.317890)\n"
          ]
        },
        {
          "output_type": "stream",
          "name": "stderr",
          "text": [
            "625it [00:09, 67.87it/s]\n"
          ]
        },
        {
          "output_type": "stream",
          "name": "stdout",
          "text": [
            "Epoch 27 \t\t Training Loss: 0.25941805217266084 \t\t Validation Loss: 0.2623758678194843\n",
            "Validation Loss Decreased(inf--->20.727694)\n"
          ]
        },
        {
          "output_type": "stream",
          "name": "stderr",
          "text": [
            "625it [00:09, 69.41it/s]\n"
          ]
        },
        {
          "output_type": "stream",
          "name": "stdout",
          "text": [
            "Epoch 28 \t\t Training Loss: 0.24652425773143768 \t\t Validation Loss: 0.3026913510093206\n",
            "Validation Loss Decreased(inf--->23.912617)\n"
          ]
        },
        {
          "output_type": "stream",
          "name": "stderr",
          "text": [
            "625it [00:09, 68.42it/s]\n"
          ]
        },
        {
          "output_type": "stream",
          "name": "stdout",
          "text": [
            "Epoch 29 \t\t Training Loss: 0.23479345772266388 \t\t Validation Loss: 0.3542789507515823\n",
            "Validation Loss Decreased(inf--->27.988037)\n"
          ]
        },
        {
          "output_type": "stream",
          "name": "stderr",
          "text": [
            "625it [00:08, 69.81it/s]\n"
          ]
        },
        {
          "output_type": "stream",
          "name": "stdout",
          "text": [
            "Epoch 30 \t\t Training Loss: 0.2236046458721161 \t\t Validation Loss: 0.10789987105357496\n",
            "Validation Loss Decreased(inf--->8.524090)\n"
          ]
        },
        {
          "output_type": "stream",
          "name": "stderr",
          "text": [
            "625it [00:08, 69.51it/s]\n"
          ]
        },
        {
          "output_type": "stream",
          "name": "stdout",
          "text": [
            "Epoch 31 \t\t Training Loss: 0.21322303642034532 \t\t Validation Loss: 0.08923322943192494\n",
            "Validation Loss Decreased(inf--->7.049425)\n"
          ]
        },
        {
          "output_type": "stream",
          "name": "stderr",
          "text": [
            "625it [00:08, 69.92it/s]\n"
          ]
        },
        {
          "output_type": "stream",
          "name": "stdout",
          "text": [
            "Epoch 32 \t\t Training Loss: 0.20303968456983568 \t\t Validation Loss: 0.13440275795852083\n",
            "Validation Loss Decreased(inf--->10.617818)\n"
          ]
        },
        {
          "output_type": "stream",
          "name": "stderr",
          "text": [
            "625it [00:09, 68.87it/s]\n"
          ]
        },
        {
          "output_type": "stream",
          "name": "stdout",
          "text": [
            "Epoch 33 \t\t Training Loss: 0.19409017605781556 \t\t Validation Loss: 0.17073286032374901\n",
            "Validation Loss Decreased(inf--->13.487896)\n"
          ]
        },
        {
          "output_type": "stream",
          "name": "stderr",
          "text": [
            "625it [00:09, 65.72it/s]\n"
          ]
        },
        {
          "output_type": "stream",
          "name": "stdout",
          "text": [
            "Epoch 34 \t\t Training Loss: 0.18516232018470763 \t\t Validation Loss: 0.31362552884258804\n",
            "Validation Loss Decreased(inf--->24.776417)\n"
          ]
        },
        {
          "output_type": "stream",
          "name": "stderr",
          "text": [
            "625it [00:08, 69.72it/s]\n"
          ]
        },
        {
          "output_type": "stream",
          "name": "stdout",
          "text": [
            "Epoch 35 \t\t Training Loss: 0.1768013918995857 \t\t Validation Loss: 0.1038829103300843\n",
            "Validation Loss Decreased(inf--->8.206750)\n"
          ]
        },
        {
          "output_type": "stream",
          "name": "stderr",
          "text": [
            "625it [00:08, 70.15it/s]\n"
          ]
        },
        {
          "output_type": "stream",
          "name": "stdout",
          "text": [
            "Epoch 36 \t\t Training Loss: 0.1689829619526863 \t\t Validation Loss: 0.09274492988103553\n",
            "Validation Loss Decreased(inf--->7.326849)\n"
          ]
        },
        {
          "output_type": "stream",
          "name": "stderr",
          "text": [
            "625it [00:09, 66.87it/s]\n"
          ]
        },
        {
          "output_type": "stream",
          "name": "stdout",
          "text": [
            "Epoch 37 \t\t Training Loss: 0.16143458077907563 \t\t Validation Loss: 0.12365261512466624\n",
            "Validation Loss Decreased(inf--->9.768557)\n"
          ]
        },
        {
          "output_type": "stream",
          "name": "stderr",
          "text": [
            "625it [00:09, 68.31it/s]\n"
          ]
        },
        {
          "output_type": "stream",
          "name": "stdout",
          "text": [
            "Epoch 38 \t\t Training Loss: 0.15432618079185487 \t\t Validation Loss: 0.039381307891652555\n",
            "Validation Loss Decreased(inf--->3.111123)\n"
          ]
        },
        {
          "output_type": "stream",
          "name": "stderr",
          "text": [
            "625it [00:09, 68.58it/s]\n"
          ]
        },
        {
          "output_type": "stream",
          "name": "stdout",
          "text": [
            "Epoch 39 \t\t Training Loss: 0.14789517847299577 \t\t Validation Loss: 0.1572991141790076\n",
            "Validation Loss Decreased(inf--->12.426630)\n"
          ]
        },
        {
          "output_type": "stream",
          "name": "stderr",
          "text": [
            "625it [00:09, 68.85it/s]\n"
          ]
        },
        {
          "output_type": "stream",
          "name": "stdout",
          "text": [
            "Epoch 40 \t\t Training Loss: 0.14143716424703598 \t\t Validation Loss: 0.07335491421856458\n",
            "Validation Loss Decreased(inf--->5.795038)\n"
          ]
        },
        {
          "output_type": "stream",
          "name": "stderr",
          "text": [
            "625it [00:09, 69.07it/s]\n"
          ]
        },
        {
          "output_type": "stream",
          "name": "stdout",
          "text": [
            "Epoch 41 \t\t Training Loss: 0.13528426038026808 \t\t Validation Loss: 0.17471137227891367\n",
            "Validation Loss Decreased(inf--->13.802198)\n"
          ]
        },
        {
          "output_type": "stream",
          "name": "stderr",
          "text": [
            "625it [00:09, 69.23it/s]\n"
          ]
        },
        {
          "output_type": "stream",
          "name": "stdout",
          "text": [
            "Epoch 42 \t\t Training Loss: 0.1295149884223938 \t\t Validation Loss: 0.061643383170984965\n",
            "Validation Loss Decreased(inf--->4.869827)\n"
          ]
        },
        {
          "output_type": "stream",
          "name": "stderr",
          "text": [
            "625it [00:09, 69.32it/s]\n"
          ]
        },
        {
          "output_type": "stream",
          "name": "stdout",
          "text": [
            "Epoch 43 \t\t Training Loss: 0.12432420638799667 \t\t Validation Loss: 0.21098078957086877\n",
            "Validation Loss Decreased(inf--->16.667482)\n"
          ]
        },
        {
          "output_type": "stream",
          "name": "stderr",
          "text": [
            "625it [00:08, 69.55it/s]\n"
          ]
        },
        {
          "output_type": "stream",
          "name": "stdout",
          "text": [
            "Epoch 44 \t\t Training Loss: 0.11905967419743538 \t\t Validation Loss: 0.2900209064725079\n",
            "Validation Loss Decreased(inf--->22.911652)\n"
          ]
        },
        {
          "output_type": "stream",
          "name": "stderr",
          "text": [
            "625it [00:09, 69.34it/s]\n"
          ]
        },
        {
          "output_type": "stream",
          "name": "stdout",
          "text": [
            "Epoch 45 \t\t Training Loss: 0.11427784261703491 \t\t Validation Loss: 0.1964661441271818\n",
            "Validation Loss Decreased(inf--->15.520825)\n"
          ]
        },
        {
          "output_type": "stream",
          "name": "stderr",
          "text": [
            "625it [00:08, 69.47it/s]\n"
          ]
        },
        {
          "output_type": "stream",
          "name": "stdout",
          "text": [
            "Epoch 46 \t\t Training Loss: 0.10960061152577401 \t\t Validation Loss: 0.19464143922057334\n",
            "Validation Loss Decreased(inf--->15.376674)\n"
          ]
        },
        {
          "output_type": "stream",
          "name": "stderr",
          "text": [
            "625it [00:09, 68.56it/s]\n"
          ]
        },
        {
          "output_type": "stream",
          "name": "stdout",
          "text": [
            "Epoch 47 \t\t Training Loss: 0.10509607366323472 \t\t Validation Loss: 0.19783723807033105\n",
            "Validation Loss Decreased(inf--->15.629142)\n"
          ]
        },
        {
          "output_type": "stream",
          "name": "stderr",
          "text": [
            "625it [00:08, 69.61it/s]\n"
          ]
        },
        {
          "output_type": "stream",
          "name": "stdout",
          "text": [
            "Epoch 48 \t\t Training Loss: 0.10075657981038094 \t\t Validation Loss: 0.17823279658450356\n",
            "Validation Loss Decreased(inf--->14.080391)\n"
          ]
        },
        {
          "output_type": "stream",
          "name": "stderr",
          "text": [
            "625it [00:08, 69.94it/s]\n"
          ]
        },
        {
          "output_type": "stream",
          "name": "stdout",
          "text": [
            "Epoch 49 \t\t Training Loss: 0.09715327361226082 \t\t Validation Loss: 0.10671815992910651\n",
            "Validation Loss Decreased(inf--->8.430735)\n"
          ]
        },
        {
          "output_type": "stream",
          "name": "stderr",
          "text": [
            "625it [00:08, 70.54it/s]\n"
          ]
        },
        {
          "output_type": "stream",
          "name": "stdout",
          "text": [
            "Epoch 50 \t\t Training Loss: 0.0929484551846981 \t\t Validation Loss: 0.18398107456255564\n",
            "Validation Loss Decreased(inf--->14.534505)\n"
          ]
        },
        {
          "output_type": "stream",
          "name": "stderr",
          "text": [
            "625it [00:08, 70.16it/s]\n"
          ]
        },
        {
          "output_type": "stream",
          "name": "stdout",
          "text": [
            "Epoch 51 \t\t Training Loss: 0.08934503310322761 \t\t Validation Loss: 0.19830055478252942\n",
            "Validation Loss Decreased(inf--->15.665744)\n"
          ]
        },
        {
          "output_type": "stream",
          "name": "stderr",
          "text": [
            "625it [00:09, 68.95it/s]\n"
          ]
        },
        {
          "output_type": "stream",
          "name": "stdout",
          "text": [
            "Epoch 52 \t\t Training Loss: 0.08605192274451255 \t\t Validation Loss: 0.17494639867468725\n",
            "Validation Loss Decreased(inf--->13.820765)\n"
          ]
        },
        {
          "output_type": "stream",
          "name": "stderr",
          "text": [
            "625it [00:09, 68.83it/s]\n"
          ]
        },
        {
          "output_type": "stream",
          "name": "stdout",
          "text": [
            "Epoch 53 \t\t Training Loss: 0.08259206208586693 \t\t Validation Loss: 0.1516697074793562\n",
            "Validation Loss Decreased(inf--->11.981907)\n"
          ]
        },
        {
          "output_type": "stream",
          "name": "stderr",
          "text": [
            "625it [00:09, 67.89it/s]\n"
          ]
        },
        {
          "output_type": "stream",
          "name": "stdout",
          "text": [
            "Epoch 54 \t\t Training Loss: 0.0795299780845642 \t\t Validation Loss: 0.15700299226785008\n",
            "Validation Loss Decreased(inf--->12.403236)\n"
          ]
        },
        {
          "output_type": "stream",
          "name": "stderr",
          "text": [
            "625it [00:09, 69.07it/s]\n"
          ]
        },
        {
          "output_type": "stream",
          "name": "stdout",
          "text": [
            "Epoch 55 \t\t Training Loss: 0.0764704598993063 \t\t Validation Loss: 0.09420128713680219\n",
            "Validation Loss Decreased(inf--->7.441902)\n"
          ]
        },
        {
          "output_type": "stream",
          "name": "stderr",
          "text": [
            "625it [00:09, 67.22it/s]\n"
          ]
        },
        {
          "output_type": "stream",
          "name": "stdout",
          "text": [
            "Epoch 56 \t\t Training Loss: 0.07356300950646401 \t\t Validation Loss: 0.36775895613658277\n",
            "Validation Loss Decreased(inf--->29.052958)\n"
          ]
        },
        {
          "output_type": "stream",
          "name": "stderr",
          "text": [
            "625it [00:09, 68.55it/s]\n"
          ]
        },
        {
          "output_type": "stream",
          "name": "stdout",
          "text": [
            "Epoch 57 \t\t Training Loss: 0.07083584845364094 \t\t Validation Loss: 0.12470578543747528\n",
            "Validation Loss Decreased(inf--->9.851757)\n"
          ]
        },
        {
          "output_type": "stream",
          "name": "stderr",
          "text": [
            "625it [00:09, 67.82it/s]\n"
          ]
        },
        {
          "output_type": "stream",
          "name": "stdout",
          "text": [
            "Epoch 58 \t\t Training Loss: 0.06824732173085213 \t\t Validation Loss: 0.11345322524444966\n",
            "Validation Loss Decreased(inf--->8.962805)\n"
          ]
        },
        {
          "output_type": "stream",
          "name": "stderr",
          "text": [
            "625it [00:09, 67.58it/s]\n"
          ]
        },
        {
          "output_type": "stream",
          "name": "stdout",
          "text": [
            "Epoch 59 \t\t Training Loss: 0.06580848630666733 \t\t Validation Loss: 0.21717182594009593\n",
            "Validation Loss Decreased(inf--->17.156574)\n"
          ]
        },
        {
          "output_type": "stream",
          "name": "stderr",
          "text": [
            "625it [00:09, 68.50it/s]\n"
          ]
        },
        {
          "output_type": "stream",
          "name": "stdout",
          "text": [
            "Epoch 60 \t\t Training Loss: 0.06347864886820316 \t\t Validation Loss: 0.3311826971512807\n",
            "Validation Loss Decreased(inf--->26.163433)\n"
          ]
        },
        {
          "output_type": "stream",
          "name": "stderr",
          "text": [
            "625it [00:09, 65.81it/s]\n"
          ]
        },
        {
          "output_type": "stream",
          "name": "stdout",
          "text": [
            "Epoch 61 \t\t Training Loss: 0.06120567769110203 \t\t Validation Loss: 0.26119041442871094\n",
            "Validation Loss Decreased(inf--->20.634043)\n"
          ]
        },
        {
          "output_type": "stream",
          "name": "stderr",
          "text": [
            "625it [00:09, 68.23it/s]\n"
          ]
        },
        {
          "output_type": "stream",
          "name": "stdout",
          "text": [
            "Epoch 62 \t\t Training Loss: 0.0588222313195467 \t\t Validation Loss: 0.13114931613584108\n",
            "Validation Loss Decreased(inf--->10.360796)\n"
          ]
        },
        {
          "output_type": "stream",
          "name": "stderr",
          "text": [
            "625it [00:09, 69.19it/s]\n"
          ]
        },
        {
          "output_type": "stream",
          "name": "stdout",
          "text": [
            "Epoch 63 \t\t Training Loss: 0.05695362637341023 \t\t Validation Loss: 0.1369051027901565\n",
            "Validation Loss Decreased(inf--->10.815503)\n"
          ]
        },
        {
          "output_type": "stream",
          "name": "stderr",
          "text": [
            "625it [00:08, 69.80it/s]\n"
          ]
        },
        {
          "output_type": "stream",
          "name": "stdout",
          "text": [
            "Epoch 64 \t\t Training Loss: 0.054922659394145014 \t\t Validation Loss: 0.09614644473112083\n",
            "Validation Loss Decreased(inf--->7.595569)\n"
          ]
        },
        {
          "output_type": "stream",
          "name": "stderr",
          "text": [
            "625it [00:09, 66.97it/s]\n"
          ]
        },
        {
          "output_type": "stream",
          "name": "stdout",
          "text": [
            "Epoch 65 \t\t Training Loss: 0.05300598611831665 \t\t Validation Loss: 0.13348440580730198\n",
            "Validation Loss Decreased(inf--->10.545268)\n"
          ]
        },
        {
          "output_type": "stream",
          "name": "stderr",
          "text": [
            "625it [00:09, 69.26it/s]\n"
          ]
        },
        {
          "output_type": "stream",
          "name": "stdout",
          "text": [
            "Epoch 66 \t\t Training Loss: 0.05118473920226097 \t\t Validation Loss: 0.10698048072525218\n",
            "Validation Loss Decreased(inf--->8.451458)\n"
          ]
        },
        {
          "output_type": "stream",
          "name": "stderr",
          "text": [
            "625it [00:09, 68.50it/s]\n"
          ]
        },
        {
          "output_type": "stream",
          "name": "stdout",
          "text": [
            "Epoch 67 \t\t Training Loss: 0.04936004910171032 \t\t Validation Loss: 0.05460809755928909\n",
            "Validation Loss Decreased(inf--->4.314040)\n"
          ]
        },
        {
          "output_type": "stream",
          "name": "stderr",
          "text": [
            "625it [00:09, 67.53it/s]\n"
          ]
        },
        {
          "output_type": "stream",
          "name": "stdout",
          "text": [
            "Epoch 68 \t\t Training Loss: 0.04785570094585419 \t\t Validation Loss: 0.10443523262120501\n",
            "Validation Loss Decreased(inf--->8.250383)\n"
          ]
        },
        {
          "output_type": "stream",
          "name": "stderr",
          "text": [
            "625it [00:09, 68.83it/s]\n"
          ]
        },
        {
          "output_type": "stream",
          "name": "stdout",
          "text": [
            "Epoch 69 \t\t Training Loss: 0.04615809235870838 \t\t Validation Loss: 0.21983921678760385\n",
            "Validation Loss Decreased(inf--->17.367298)\n"
          ]
        },
        {
          "output_type": "stream",
          "name": "stderr",
          "text": [
            "625it [00:09, 68.27it/s]\n"
          ]
        },
        {
          "output_type": "stream",
          "name": "stdout",
          "text": [
            "Epoch 70 \t\t Training Loss: 0.044580743506550786 \t\t Validation Loss: 0.11080481130865556\n",
            "Validation Loss Decreased(inf--->8.753580)\n"
          ]
        },
        {
          "output_type": "stream",
          "name": "stderr",
          "text": [
            "625it [00:09, 68.09it/s]\n"
          ]
        },
        {
          "output_type": "stream",
          "name": "stdout",
          "text": [
            "Epoch 71 \t\t Training Loss: 0.0430982015222311 \t\t Validation Loss: 0.24622837501236156\n",
            "Validation Loss Decreased(inf--->19.452042)\n"
          ]
        },
        {
          "output_type": "stream",
          "name": "stderr",
          "text": [
            "625it [00:09, 66.88it/s]\n"
          ]
        },
        {
          "output_type": "stream",
          "name": "stdout",
          "text": [
            "Epoch 72 \t\t Training Loss: 0.041698029002547266 \t\t Validation Loss: 0.13247714465177512\n",
            "Validation Loss Decreased(inf--->10.465694)\n"
          ]
        },
        {
          "output_type": "stream",
          "name": "stderr",
          "text": [
            "625it [00:09, 67.70it/s]\n"
          ]
        },
        {
          "output_type": "stream",
          "name": "stdout",
          "text": [
            "Epoch 73 \t\t Training Loss: 0.0403277403742075 \t\t Validation Loss: 0.06861676445490197\n",
            "Validation Loss Decreased(inf--->5.420724)\n"
          ]
        },
        {
          "output_type": "stream",
          "name": "stderr",
          "text": [
            "625it [00:09, 68.17it/s]\n"
          ]
        },
        {
          "output_type": "stream",
          "name": "stdout",
          "text": [
            "Epoch 74 \t\t Training Loss: 0.03901402928680182 \t\t Validation Loss: 0.2123859019219121\n",
            "Validation Loss Decreased(inf--->16.778486)\n"
          ]
        },
        {
          "output_type": "stream",
          "name": "stderr",
          "text": [
            "625it [00:09, 67.36it/s]\n"
          ]
        },
        {
          "output_type": "stream",
          "name": "stdout",
          "text": [
            "Epoch 75 \t\t Training Loss: 0.037817408511042594 \t\t Validation Loss: 0.1738191314890415\n",
            "Validation Loss Decreased(inf--->13.731711)\n"
          ]
        },
        {
          "output_type": "stream",
          "name": "stderr",
          "text": [
            "625it [00:09, 68.86it/s]\n"
          ]
        },
        {
          "output_type": "stream",
          "name": "stdout",
          "text": [
            "Epoch 76 \t\t Training Loss: 0.03666732505559921 \t\t Validation Loss: 0.10247098946873145\n",
            "Validation Loss Decreased(inf--->8.095208)\n"
          ]
        },
        {
          "output_type": "stream",
          "name": "stderr",
          "text": [
            "625it [00:09, 69.14it/s]\n"
          ]
        },
        {
          "output_type": "stream",
          "name": "stdout",
          "text": [
            "Epoch 77 \t\t Training Loss: 0.03546433990895748 \t\t Validation Loss: 0.06745771818523165\n",
            "Validation Loss Decreased(inf--->5.329160)\n"
          ]
        },
        {
          "output_type": "stream",
          "name": "stderr",
          "text": [
            "625it [00:09, 68.23it/s]\n"
          ]
        },
        {
          "output_type": "stream",
          "name": "stdout",
          "text": [
            "Epoch 78 \t\t Training Loss: 0.034332339711487296 \t\t Validation Loss: 0.20089924486377572\n",
            "Validation Loss Decreased(inf--->15.871040)\n"
          ]
        },
        {
          "output_type": "stream",
          "name": "stderr",
          "text": [
            "625it [00:09, 69.27it/s]\n"
          ]
        },
        {
          "output_type": "stream",
          "name": "stdout",
          "text": [
            "Epoch 79 \t\t Training Loss: 0.03325037952512502 \t\t Validation Loss: 0.266680415672592\n",
            "Validation Loss Decreased(inf--->21.067753)\n"
          ]
        },
        {
          "output_type": "stream",
          "name": "stderr",
          "text": [
            "625it [00:09, 69.04it/s]\n"
          ]
        },
        {
          "output_type": "stream",
          "name": "stdout",
          "text": [
            "Epoch 80 \t\t Training Loss: 0.03229824831187725 \t\t Validation Loss: 0.0838395975813081\n",
            "Validation Loss Decreased(inf--->6.623328)\n"
          ]
        },
        {
          "output_type": "stream",
          "name": "stderr",
          "text": [
            "625it [00:09, 69.29it/s]\n"
          ]
        },
        {
          "output_type": "stream",
          "name": "stdout",
          "text": [
            "Epoch 81 \t\t Training Loss: 0.03125670393407345 \t\t Validation Loss: 0.15169604820541188\n",
            "Validation Loss Decreased(inf--->11.983988)\n"
          ]
        },
        {
          "output_type": "stream",
          "name": "stderr",
          "text": [
            "625it [00:09, 69.14it/s]\n"
          ]
        },
        {
          "output_type": "stream",
          "name": "stdout",
          "text": [
            "Epoch 82 \t\t Training Loss: 0.03032861707508564 \t\t Validation Loss: 0.1471522850326345\n",
            "Validation Loss Decreased(inf--->11.625031)\n"
          ]
        },
        {
          "output_type": "stream",
          "name": "stderr",
          "text": [
            "625it [00:09, 68.22it/s]\n"
          ]
        },
        {
          "output_type": "stream",
          "name": "stdout",
          "text": [
            "Epoch 83 \t\t Training Loss: 0.029428919169306754 \t\t Validation Loss: 0.13136198550839967\n",
            "Validation Loss Decreased(inf--->10.377597)\n"
          ]
        },
        {
          "output_type": "stream",
          "name": "stderr",
          "text": [
            "625it [00:09, 68.31it/s]\n"
          ]
        },
        {
          "output_type": "stream",
          "name": "stdout",
          "text": [
            "Epoch 84 \t\t Training Loss: 0.02854303098767996 \t\t Validation Loss: 0.14171827292140526\n",
            "Validation Loss Decreased(inf--->11.195744)\n"
          ]
        },
        {
          "output_type": "stream",
          "name": "stderr",
          "text": [
            "625it [00:09, 68.32it/s]\n"
          ]
        },
        {
          "output_type": "stream",
          "name": "stdout",
          "text": [
            "Epoch 85 \t\t Training Loss: 0.027785610672831536 \t\t Validation Loss: 0.18231509003458143\n",
            "Validation Loss Decreased(inf--->14.402892)\n"
          ]
        },
        {
          "output_type": "stream",
          "name": "stderr",
          "text": [
            "625it [00:09, 68.59it/s]\n"
          ]
        },
        {
          "output_type": "stream",
          "name": "stdout",
          "text": [
            "Epoch 86 \t\t Training Loss: 0.026931393852829933 \t\t Validation Loss: 0.24668461763406102\n",
            "Validation Loss Decreased(inf--->19.488085)\n"
          ]
        },
        {
          "output_type": "stream",
          "name": "stderr",
          "text": [
            "625it [00:09, 64.79it/s]\n"
          ]
        },
        {
          "output_type": "stream",
          "name": "stdout",
          "text": [
            "Epoch 87 \t\t Training Loss: 0.026117870746552946 \t\t Validation Loss: 0.11715678927264636\n",
            "Validation Loss Decreased(inf--->9.255386)\n"
          ]
        },
        {
          "output_type": "stream",
          "name": "stderr",
          "text": [
            "625it [00:08, 69.54it/s]\n"
          ]
        },
        {
          "output_type": "stream",
          "name": "stdout",
          "text": [
            "Epoch 88 \t\t Training Loss: 0.025389961321651937 \t\t Validation Loss: 0.16935092588014242\n",
            "Validation Loss Decreased(inf--->13.378723)\n"
          ]
        },
        {
          "output_type": "stream",
          "name": "stderr",
          "text": [
            "625it [00:08, 69.57it/s]\n"
          ]
        },
        {
          "output_type": "stream",
          "name": "stdout",
          "text": [
            "Epoch 89 \t\t Training Loss: 0.024639940536022188 \t\t Validation Loss: 0.1946198427224461\n",
            "Validation Loss Decreased(inf--->15.374968)\n"
          ]
        },
        {
          "output_type": "stream",
          "name": "stderr",
          "text": [
            "625it [00:09, 68.63it/s]\n"
          ]
        },
        {
          "output_type": "stream",
          "name": "stdout",
          "text": [
            "Epoch 90 \t\t Training Loss: 0.023945313921570777 \t\t Validation Loss: 0.14715296105493472\n",
            "Validation Loss Decreased(inf--->11.625084)\n"
          ]
        },
        {
          "output_type": "stream",
          "name": "stderr",
          "text": [
            "625it [00:09, 69.08it/s]\n"
          ]
        },
        {
          "output_type": "stream",
          "name": "stdout",
          "text": [
            "Epoch 91 \t\t Training Loss: 0.023232797613739968 \t\t Validation Loss: 0.20957743970653678\n",
            "Validation Loss Decreased(inf--->16.556618)\n"
          ]
        },
        {
          "output_type": "stream",
          "name": "stderr",
          "text": [
            "625it [00:09, 68.69it/s]\n"
          ]
        },
        {
          "output_type": "stream",
          "name": "stdout",
          "text": [
            "Epoch 92 \t\t Training Loss: 0.022582088543474675 \t\t Validation Loss: 0.24223448354986649\n",
            "Validation Loss Decreased(inf--->19.136524)\n"
          ]
        },
        {
          "output_type": "stream",
          "name": "stderr",
          "text": [
            "625it [00:09, 67.04it/s]\n"
          ]
        },
        {
          "output_type": "stream",
          "name": "stdout",
          "text": [
            "Epoch 93 \t\t Training Loss: 0.022014588367193937 \t\t Validation Loss: 0.2536419011369536\n",
            "Validation Loss Decreased(inf--->20.037710)\n"
          ]
        },
        {
          "output_type": "stream",
          "name": "stderr",
          "text": [
            "625it [00:08, 70.15it/s]\n"
          ]
        },
        {
          "output_type": "stream",
          "name": "stdout",
          "text": [
            "Epoch 94 \t\t Training Loss: 0.021388539680838585 \t\t Validation Loss: 0.2263208703149723\n",
            "Validation Loss Decreased(inf--->17.879349)\n"
          ]
        },
        {
          "output_type": "stream",
          "name": "stderr",
          "text": [
            "625it [00:08, 70.34it/s]\n"
          ]
        },
        {
          "output_type": "stream",
          "name": "stdout",
          "text": [
            "Epoch 95 \t\t Training Loss: 0.020753641904890537 \t\t Validation Loss: 0.27928613107415695\n",
            "Validation Loss Decreased(inf--->22.063604)\n"
          ]
        },
        {
          "output_type": "stream",
          "name": "stderr",
          "text": [
            "625it [00:09, 66.21it/s]\n"
          ]
        },
        {
          "output_type": "stream",
          "name": "stdout",
          "text": [
            "Epoch 96 \t\t Training Loss: 0.020237687537819148 \t\t Validation Loss: 0.06922621666630611\n",
            "Validation Loss Decreased(inf--->5.468871)\n"
          ]
        },
        {
          "output_type": "stream",
          "name": "stderr",
          "text": [
            "625it [00:10, 57.27it/s]\n"
          ]
        },
        {
          "output_type": "stream",
          "name": "stdout",
          "text": [
            "Epoch 97 \t\t Training Loss: 0.01966449515223503 \t\t Validation Loss: 0.17599681661098818\n",
            "Validation Loss Decreased(inf--->13.903749)\n"
          ]
        },
        {
          "output_type": "stream",
          "name": "stderr",
          "text": [
            "625it [00:09, 67.64it/s]\n"
          ]
        },
        {
          "output_type": "stream",
          "name": "stdout",
          "text": [
            "Epoch 98 \t\t Training Loss: 0.01916594110429287 \t\t Validation Loss: 0.3899898046179663\n",
            "Validation Loss Decreased(inf--->30.809195)\n"
          ]
        },
        {
          "output_type": "stream",
          "name": "stderr",
          "text": [
            "625it [00:09, 67.90it/s]\n"
          ]
        },
        {
          "output_type": "stream",
          "name": "stdout",
          "text": [
            "Epoch 99 \t\t Training Loss: 0.018682767954096197 \t\t Validation Loss: 0.3292795012268839\n",
            "Validation Loss Decreased(inf--->26.013081)\n"
          ]
        },
        {
          "output_type": "stream",
          "name": "stderr",
          "text": [
            "625it [00:08, 69.51it/s]"
          ]
        },
        {
          "output_type": "stream",
          "name": "stdout",
          "text": [
            "Epoch 100 \t\t Training Loss: 0.01819442109167576 \t\t Validation Loss: 0.1079769617394556\n",
            "Validation Loss Decreased(inf--->8.530180)\n"
          ]
        },
        {
          "output_type": "stream",
          "name": "stderr",
          "text": [
            "\n"
          ]
        }
      ],
      "source": [
        "for epoch in range(epochs):\n",
        "    train_loop(epoch)"
      ]
    },
    {
      "cell_type": "code",
      "source": [
        "tusers = torch.tensor(df_test.userId.values)\n",
        "titems = torch.tensor(df_test.movieId.values)\n",
        "tratings = df_test.rating.values"
      ],
      "metadata": {
        "id": "dQbDP-BbLSKL"
      },
      "execution_count": 74,
      "outputs": []
    },
    {
      "cell_type": "code",
      "source": [
        "with torch.no_grad():\n",
        "    tpreds = UserItemEmbeddingNet(tusers, titems)"
      ],
      "metadata": {
        "id": "yEf0uQYtKo4w"
      },
      "execution_count": 75,
      "outputs": []
    },
    {
      "cell_type": "code",
      "source": [
        "tpreds, len(tpreds)"
      ],
      "metadata": {
        "colab": {
          "base_uri": "https://localhost:8080/"
        },
        "id": "R1AMfVXKLaVS",
        "outputId": "e4b13607-bdea-4e19-f77d-c89eb40bcc90"
      },
      "execution_count": 77,
      "outputs": [
        {
          "output_type": "execute_result",
          "data": {
            "text/plain": [
              "(tensor([6.2959, 4.0425, 4.4953,  ..., 5.7096, 3.1354, 5.3332]), 10000)"
            ]
          },
          "metadata": {},
          "execution_count": 77
        }
      ]
    },
    {
      "cell_type": "code",
      "source": [
        "tpredsfinal = tpreds.detach().numpy()\n",
        "#tpredsfinal = (tpredsfinal/0.5).astype(int)\n",
        "tpredsfinal = (tpredsfinal>3).astype(int)"
      ],
      "metadata": {
        "id": "kMNiG6ytMGas"
      },
      "execution_count": 78,
      "outputs": []
    },
    {
      "cell_type": "code",
      "source": [
        "#tratings = (tratings*2).astype(int)\n",
        "tratings = (tratings>3).astype(int)\n",
        "tratings, tpredsfinal"
      ],
      "metadata": {
        "colab": {
          "base_uri": "https://localhost:8080/"
        },
        "id": "O9dSzJgDLcFk",
        "outputId": "a2aef319-63a0-4002-d863-1227701a0f09"
      },
      "execution_count": 79,
      "outputs": [
        {
          "output_type": "execute_result",
          "data": {
            "text/plain": [
              "(array([0, 0, 1, ..., 0, 1, 0]), array([1, 1, 1, ..., 1, 1, 1]))"
            ]
          },
          "metadata": {},
          "execution_count": 79
        }
      ]
    },
    {
      "cell_type": "code",
      "source": [
        "from sklearn.metrics import f1_score\n",
        "f1_score(tpredsfinal, tratings)"
      ],
      "metadata": {
        "colab": {
          "base_uri": "https://localhost:8080/"
        },
        "id": "N75YrEqiLdW9",
        "outputId": "95af7a8d-1bc8-47a3-f2fa-a87916f98724"
      },
      "execution_count": 80,
      "outputs": [
        {
          "output_type": "execute_result",
          "data": {
            "text/plain": [
              "0.5923937360178971"
            ]
          },
          "metadata": {},
          "execution_count": 80
        }
      ]
    },
    {
      "cell_type": "code",
      "source": [],
      "metadata": {
        "id": "PciFev4jNGrU"
      },
      "execution_count": null,
      "outputs": []
    }
  ],
  "metadata": {
    "colab": {
      "collapsed_sections": [],
      "provenance": []
    },
    "kernelspec": {
      "display_name": "Python 3",
      "name": "python3"
    },
    "language_info": {
      "name": "python"
    }
  },
  "nbformat": 4,
  "nbformat_minor": 0
}