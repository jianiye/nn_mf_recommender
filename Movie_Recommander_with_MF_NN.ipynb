{
  "cells": [
    {
      "cell_type": "code",
      "source": [
        "import pickle\n",
        "import numpy as np\n",
        "import pandas as pd\n",
        "import matplotlib.pyplot as plt\n",
        "from sklearn.utils import shuffle\n",
        "from torchvision import datasets\n",
        "from torch.utils.data import Dataset, DataLoader\n",
        "from sklearn.metrics import f1_score\n",
        "import json\n",
        "\n",
        "import numpy as np\n",
        "import pandas as pd\n",
        "import torch\n",
        "from torch import nn\n",
        "from tqdm import tqdm\n"
      ],
      "metadata": {
        "id": "UFbVjvg_JtmC"
      },
      "execution_count": 1,
      "outputs": []
    },
    {
      "cell_type": "markdown",
      "source": [
        "## Data preprocessing"
      ],
      "metadata": {
        "id": "NLdAPmsUXOVB"
      }
    },
    {
      "cell_type": "code",
      "execution_count": 2,
      "metadata": {
        "colab": {
          "base_uri": "https://localhost:8080/"
        },
        "id": "9t45jgkjm4eT",
        "outputId": "fcacc102-3090-42ff-c902-cd4d5721d49f"
      },
      "outputs": [
        {
          "output_type": "stream",
          "name": "stdout",
          "text": [
            "Downloading movielens data...\n"
          ]
        }
      ],
      "source": [
        "print(\"Downloading movielens data...\")\n",
        "from urllib.request import urlretrieve\n",
        "import zipfile\n",
        "\n",
        "# Download the data\n",
        "urlretrieve(\"http://files.grouplens.org/datasets/movielens/ml-20m.zip\", \"movielens.zip\")\n",
        "zip_ref = zipfile.ZipFile('movielens.zip', \"r\")\n",
        "zip_ref.extractall()\n"
      ]
    },
    {
      "cell_type": "code",
      "source": [
        "# load in the data\n",
        "df = pd.read_csv('ml-20m/ratings.csv')"
      ],
      "metadata": {
        "id": "94nkxGT1RXxP"
      },
      "execution_count": 3,
      "outputs": []
    },
    {
      "cell_type": "code",
      "execution_count": 4,
      "metadata": {
        "id": "6mBuNqRLpvIG",
        "colab": {
          "base_uri": "https://localhost:8080/",
          "height": 206
        },
        "outputId": "d91bce3d-f21c-4153-95e4-05587b383a42"
      },
      "outputs": [
        {
          "output_type": "execute_result",
          "data": {
            "text/plain": [
              "   userId  movieId  rating   timestamp\n",
              "0       1        2     3.5  1112486027\n",
              "1       1       29     3.5  1112484676\n",
              "2       1       32     3.5  1112484819\n",
              "3       1       47     3.5  1112484727\n",
              "4       1       50     3.5  1112484580"
            ],
            "text/html": [
              "\n",
              "  <div id=\"df-8a0b526b-f424-4a25-8a3d-13f0386cfbe5\">\n",
              "    <div class=\"colab-df-container\">\n",
              "      <div>\n",
              "<style scoped>\n",
              "    .dataframe tbody tr th:only-of-type {\n",
              "        vertical-align: middle;\n",
              "    }\n",
              "\n",
              "    .dataframe tbody tr th {\n",
              "        vertical-align: top;\n",
              "    }\n",
              "\n",
              "    .dataframe thead th {\n",
              "        text-align: right;\n",
              "    }\n",
              "</style>\n",
              "<table border=\"1\" class=\"dataframe\">\n",
              "  <thead>\n",
              "    <tr style=\"text-align: right;\">\n",
              "      <th></th>\n",
              "      <th>userId</th>\n",
              "      <th>movieId</th>\n",
              "      <th>rating</th>\n",
              "      <th>timestamp</th>\n",
              "    </tr>\n",
              "  </thead>\n",
              "  <tbody>\n",
              "    <tr>\n",
              "      <th>0</th>\n",
              "      <td>1</td>\n",
              "      <td>2</td>\n",
              "      <td>3.5</td>\n",
              "      <td>1112486027</td>\n",
              "    </tr>\n",
              "    <tr>\n",
              "      <th>1</th>\n",
              "      <td>1</td>\n",
              "      <td>29</td>\n",
              "      <td>3.5</td>\n",
              "      <td>1112484676</td>\n",
              "    </tr>\n",
              "    <tr>\n",
              "      <th>2</th>\n",
              "      <td>1</td>\n",
              "      <td>32</td>\n",
              "      <td>3.5</td>\n",
              "      <td>1112484819</td>\n",
              "    </tr>\n",
              "    <tr>\n",
              "      <th>3</th>\n",
              "      <td>1</td>\n",
              "      <td>47</td>\n",
              "      <td>3.5</td>\n",
              "      <td>1112484727</td>\n",
              "    </tr>\n",
              "    <tr>\n",
              "      <th>4</th>\n",
              "      <td>1</td>\n",
              "      <td>50</td>\n",
              "      <td>3.5</td>\n",
              "      <td>1112484580</td>\n",
              "    </tr>\n",
              "  </tbody>\n",
              "</table>\n",
              "</div>\n",
              "      <button class=\"colab-df-convert\" onclick=\"convertToInteractive('df-8a0b526b-f424-4a25-8a3d-13f0386cfbe5')\"\n",
              "              title=\"Convert this dataframe to an interactive table.\"\n",
              "              style=\"display:none;\">\n",
              "        \n",
              "  <svg xmlns=\"http://www.w3.org/2000/svg\" height=\"24px\"viewBox=\"0 0 24 24\"\n",
              "       width=\"24px\">\n",
              "    <path d=\"M0 0h24v24H0V0z\" fill=\"none\"/>\n",
              "    <path d=\"M18.56 5.44l.94 2.06.94-2.06 2.06-.94-2.06-.94-.94-2.06-.94 2.06-2.06.94zm-11 1L8.5 8.5l.94-2.06 2.06-.94-2.06-.94L8.5 2.5l-.94 2.06-2.06.94zm10 10l.94 2.06.94-2.06 2.06-.94-2.06-.94-.94-2.06-.94 2.06-2.06.94z\"/><path d=\"M17.41 7.96l-1.37-1.37c-.4-.4-.92-.59-1.43-.59-.52 0-1.04.2-1.43.59L10.3 9.45l-7.72 7.72c-.78.78-.78 2.05 0 2.83L4 21.41c.39.39.9.59 1.41.59.51 0 1.02-.2 1.41-.59l7.78-7.78 2.81-2.81c.8-.78.8-2.07 0-2.86zM5.41 20L4 18.59l7.72-7.72 1.47 1.35L5.41 20z\"/>\n",
              "  </svg>\n",
              "      </button>\n",
              "      \n",
              "  <style>\n",
              "    .colab-df-container {\n",
              "      display:flex;\n",
              "      flex-wrap:wrap;\n",
              "      gap: 12px;\n",
              "    }\n",
              "\n",
              "    .colab-df-convert {\n",
              "      background-color: #E8F0FE;\n",
              "      border: none;\n",
              "      border-radius: 50%;\n",
              "      cursor: pointer;\n",
              "      display: none;\n",
              "      fill: #1967D2;\n",
              "      height: 32px;\n",
              "      padding: 0 0 0 0;\n",
              "      width: 32px;\n",
              "    }\n",
              "\n",
              "    .colab-df-convert:hover {\n",
              "      background-color: #E2EBFA;\n",
              "      box-shadow: 0px 1px 2px rgba(60, 64, 67, 0.3), 0px 1px 3px 1px rgba(60, 64, 67, 0.15);\n",
              "      fill: #174EA6;\n",
              "    }\n",
              "\n",
              "    [theme=dark] .colab-df-convert {\n",
              "      background-color: #3B4455;\n",
              "      fill: #D2E3FC;\n",
              "    }\n",
              "\n",
              "    [theme=dark] .colab-df-convert:hover {\n",
              "      background-color: #434B5C;\n",
              "      box-shadow: 0px 1px 3px 1px rgba(0, 0, 0, 0.15);\n",
              "      filter: drop-shadow(0px 1px 2px rgba(0, 0, 0, 0.3));\n",
              "      fill: #FFFFFF;\n",
              "    }\n",
              "  </style>\n",
              "\n",
              "      <script>\n",
              "        const buttonEl =\n",
              "          document.querySelector('#df-8a0b526b-f424-4a25-8a3d-13f0386cfbe5 button.colab-df-convert');\n",
              "        buttonEl.style.display =\n",
              "          google.colab.kernel.accessAllowed ? 'block' : 'none';\n",
              "\n",
              "        async function convertToInteractive(key) {\n",
              "          const element = document.querySelector('#df-8a0b526b-f424-4a25-8a3d-13f0386cfbe5');\n",
              "          const dataTable =\n",
              "            await google.colab.kernel.invokeFunction('convertToInteractive',\n",
              "                                                     [key], {});\n",
              "          if (!dataTable) return;\n",
              "\n",
              "          const docLinkHtml = 'Like what you see? Visit the ' +\n",
              "            '<a target=\"_blank\" href=https://colab.research.google.com/notebooks/data_table.ipynb>data table notebook</a>'\n",
              "            + ' to learn more about interactive tables.';\n",
              "          element.innerHTML = '';\n",
              "          dataTable['output_type'] = 'display_data';\n",
              "          await google.colab.output.renderOutput(dataTable, element);\n",
              "          const docLink = document.createElement('div');\n",
              "          docLink.innerHTML = docLinkHtml;\n",
              "          element.appendChild(docLink);\n",
              "        }\n",
              "      </script>\n",
              "    </div>\n",
              "  </div>\n",
              "  "
            ]
          },
          "metadata": {},
          "execution_count": 4
        }
      ],
      "source": [
        "df.head()"
      ]
    },
    {
      "cell_type": "code",
      "source": [
        "bs = 128\n",
        "reg = 0. # regularization penalty\n"
      ],
      "metadata": {
        "id": "1SweopEqGg7X"
      },
      "execution_count": 5,
      "outputs": []
    },
    {
      "cell_type": "code",
      "source": [
        "# Customize dataset\n",
        "N = df.userId.max() + 1 # number of users\n",
        "M = df.movieId.max() + 1 # number of movies\n",
        "\n",
        "# split into train and test\n",
        "df = shuffle(df)\n",
        "df = df.iloc[:1000000]\n",
        "cutoff = int(0.8*len(df))\n",
        "cutoffeval = int(0.9*len(df))\n",
        "df_train = df.iloc[:cutoff]\n",
        "df_eval = df.iloc[cutoff:cutoffeval]\n",
        "df_test = df.iloc[cutoffeval:]\n",
        "\n",
        "# initialize variables\n",
        "K = 10 # latent dimensionality\n",
        "mu = df_train.rating.mean()\n"
      ],
      "metadata": {
        "id": "6ckgRCtYSHLQ"
      },
      "execution_count": 6,
      "outputs": []
    },
    {
      "cell_type": "code",
      "execution_count": 7,
      "metadata": {
        "id": "6rxQ74x5rZrb",
        "colab": {
          "base_uri": "https://localhost:8080/"
        },
        "outputId": "8be75680-90d5-4bad-b86a-b13d1859eda9"
      },
      "outputs": [
        {
          "output_type": "execute_result",
          "data": {
            "text/plain": [
              "(138494, 131263, 10, 800000, 1000000, 3.52350625)"
            ]
          },
          "metadata": {},
          "execution_count": 7
        }
      ],
      "source": [
        "N,M,K,len(df_train),len(df), mu"
      ]
    },
    {
      "cell_type": "code",
      "source": [
        "class ratingdataset(Dataset):\n",
        "  def __init__(self, df):\n",
        "    self.df = df\n",
        "    self.u = df.userId.values\n",
        "    self.m = df.movieId.values\n",
        "    self.r = df.rating.values\n",
        "    self.N = self.u.max() + 1\n",
        "    self.M = self.m.max() + 1\n",
        "\n",
        "  def __len__(self):\n",
        "    return len(self.u)\n",
        "  \n",
        "  def __getitem__(self, idx):\n",
        "    return [self.u[idx], self.m[idx]], self.r[idx]\n"
      ],
      "metadata": {
        "id": "_FEd3bmkAR8p"
      },
      "execution_count": 8,
      "outputs": []
    },
    {
      "cell_type": "code",
      "source": [
        "ratingData_train = ratingdataset(df_train)\n",
        "ratingData_eval = ratingdataset(df_eval)\n",
        "ratingData_test = ratingdataset(df_test)"
      ],
      "metadata": {
        "id": "hTn6R9OKBtN1"
      },
      "execution_count": 9,
      "outputs": []
    },
    {
      "cell_type": "code",
      "source": [
        "train_dataloader = DataLoader(ratingData_train, batch_size=bs, shuffle=True)\n",
        "eval_dataloader = DataLoader(ratingData_eval, batch_size=bs, shuffle=True)\n",
        "test_dataloader = DataLoader(ratingData_test, batch_size=bs, shuffle=True)"
      ],
      "metadata": {
        "id": "QU9a8sE390Bi"
      },
      "execution_count": 10,
      "outputs": []
    },
    {
      "cell_type": "code",
      "source": [
        "train_dataloader, eval_dataloader, test_dataloader"
      ],
      "metadata": {
        "colab": {
          "base_uri": "https://localhost:8080/"
        },
        "id": "UE7uTV8wXXTa",
        "outputId": "f17fdf26-31a1-416f-ef4b-d196ea588c83"
      },
      "execution_count": 11,
      "outputs": [
        {
          "output_type": "execute_result",
          "data": {
            "text/plain": [
              "(<torch.utils.data.dataloader.DataLoader at 0x7fb53f015e10>,\n",
              " <torch.utils.data.dataloader.DataLoader at 0x7fb53f015d50>,\n",
              " <torch.utils.data.dataloader.DataLoader at 0x7fb53f018090>)"
            ]
          },
          "metadata": {},
          "execution_count": 11
        }
      ]
    },
    {
      "cell_type": "code",
      "execution_count": 12,
      "metadata": {
        "id": "_bHnIbyDr_hV"
      },
      "outputs": [],
      "source": [
        "# # direct data\n",
        "# users = torch.tensor(df_train.userId.values)\n",
        "# items = torch.tensor(df_train.movieId.values)\n",
        "# ratings = torch.tensor(df_train.rating.values)"
      ]
    },
    {
      "cell_type": "code",
      "execution_count": 13,
      "metadata": {
        "id": "BBeas35o33I1",
        "colab": {
          "base_uri": "https://localhost:8080/"
        },
        "outputId": "74a136ee-3725-4148-886d-7c6a54f9548d"
      },
      "outputs": [
        {
          "output_type": "stream",
          "name": "stdout",
          "text": [
            "UserItemEmbeddingNNNet(\n",
            "  (u): Embedding(138494, 10)\n",
            "  (m): Embedding(131263, 10)\n",
            "  (u_bias): Embedding(138494, 1)\n",
            "  (m_bias): Embedding(131263, 1)\n",
            "  (lout): Linear(in_features=20, out_features=400, bias=True)\n",
            "  (act): ReLU()\n",
            "  (out): Linear(in_features=400, out_features=1, bias=True)\n",
            ")\n"
          ]
        }
      ],
      "source": [
        "class UserItemEmbeddingNNNet(torch.nn.Module):\n",
        "    def __init__(self, n_users, n_items, k_factors, embedding_dropout = 0.02, hidden = 10, dropouts = 0.2):\n",
        "\n",
        "        super(UserItemEmbeddingNNNet, self).__init__()\n",
        "        self.u = torch.nn.Embedding(n_users, k_factors)\n",
        "        self.m = torch.nn.Embedding(n_items, k_factors)\n",
        "        self.u_bias = torch.nn.Embedding(n_users, 1)\n",
        "        self.m_bias = torch.nn.Embedding(n_items, 1)\n",
        "        self.lout = torch.nn.Linear(2*k_factors, 400)\n",
        "        self.act = torch.nn.ReLU()\n",
        "        self.out = torch.nn.Linear(400,1)\n",
        "\n",
        "\n",
        "    def forward(self, users, items):\n",
        "        uembed = self.u(users)\n",
        "        membed = self.m(items)\n",
        "        ubias = self.u_bias(users)\n",
        "        mbias = self.m_bias(items)\n",
        "        umdot = torch.mul(uembed,membed)\n",
        "        umdot = torch.sum(umdot,1)\n",
        "        umdot = torch.reshape(umdot, (umdot.shape[0], 1))\n",
        "        #umcat = torch.cat((uembed.clone().detach(),membed.clone().detach()), 1)\n",
        "        umcat = torch.cat((uembed,membed), 1)\n",
        "        umcat = self.lout(umcat)\n",
        "        umcat = self.act(umcat)\n",
        "        umcat = self.out(umcat)\n",
        "        output = torch.add(umdot, umcat)\n",
        "        # print(output[0], umdot[0], umcat[0])\n",
        "        output = torch.add(output, ubias)\n",
        "        output = torch.add(output, mbias)\n",
        "        # or use: result = torch.sum(torch.stack([x, y, ...]), dim=0)\n",
        "        output = torch.flatten(output)\n",
        "        return output\n",
        "\n",
        "UserItemEmbeddingNNNet = UserItemEmbeddingNNNet(N, M, K)\n",
        "print(UserItemEmbeddingNNNet)"
      ]
    },
    {
      "cell_type": "code",
      "execution_count": 14,
      "metadata": {
        "id": "i8cej51N7mQg"
      },
      "outputs": [],
      "source": [
        "epochs = 30\n",
        "lr = 0.05\n",
        "min_valid_loss = np.inf\n",
        "loss_func = torch.nn.MSELoss()\n",
        "\n",
        "def train_loop(epoch, min_valid_loss, loss_func, model):\n",
        "    optimizer = torch.optim.SGD(model.parameters(), lr=lr, momentum=0.9)\n",
        "    train_loss = 0.0\n",
        "    model.train()\n",
        "    \n",
        "    for i, data in tqdm(enumerate(train_dataloader)):\n",
        "        inputs, labels = data\n",
        "        if torch.cuda.is_available():\n",
        "            inputs, labels = inputs.cuda(), labels.cuda()\n",
        "        users, items = inputs[0], inputs[1]\n",
        "\n",
        "        optimizer.zero_grad()\n",
        "        target = model(users, items)\n",
        "        loss = loss_func(target.float(), labels.float())\n",
        "        #loss = loss_func(target, labels)\n",
        "        loss.backward()\n",
        "        optimizer.step()\n",
        "        train_loss += loss.item()\n",
        "    \n",
        "    valid_loss = 0.0\n",
        "    model.eval()     # Optional when not using model Specific layer\n",
        "    for data in eval_dataloader:\n",
        "        inputs, labels = data\n",
        "        if torch.cuda.is_available():\n",
        "            inputs, labels =inputs.cuda(), labels.cuda()\n",
        "        users, items = inputs[0], inputs[1]\n",
        "        target = model(users, items)\n",
        "        loss = loss_func(target.float(), labels.float())\n",
        "        valid_loss += loss.item() * len(inputs)\n",
        "\n",
        "    if epoch%1==0:\n",
        "        print(f'Epoch {epoch+1} \\t\\t Training Loss: {train_loss, train_loss / len(train_dataloader)} \\t\\t Validation Loss: {valid_loss, valid_loss / len(eval_dataloader)}')\n",
        "    if min_valid_loss > valid_loss:\n",
        "        print(f\"Validation Loss Decreased({min_valid_loss:.6f}--->{valid_loss:.6f})\")\n",
        "        min_valid_loss = valid_loss\n",
        "        # Saving State Dict\n",
        "        torch.save(model.state_dict(), 'saved_model.pth')\n",
        "    return min_valid_loss\n",
        " "
      ]
    },
    {
      "cell_type": "code",
      "execution_count": 15,
      "metadata": {
        "id": "f_Gc8h-P7mEF",
        "colab": {
          "base_uri": "https://localhost:8080/"
        },
        "outputId": "fe15515d-2819-4bb5-e1ff-17baf99ede72"
      },
      "outputs": [
        {
          "metadata": {
            "tags": null
          },
          "name": "stderr",
          "output_type": "stream",
          "text": [
            "6250it [02:44, 37.91it/s]\n"
          ]
        },
        {
          "metadata": {
            "tags": null
          },
          "name": "stdout",
          "output_type": "stream",
          "text": [
            "Epoch 1 \t\t Training Loss: (19336.989125609398, 3.0939182600975035) \t\t Validation Loss: (3961.6147418022156, 5.066003506140941)\n",
            "Validation Loss Decreased(inf--->3961.614742)\n"
          ]
        },
        {
          "metadata": {
            "tags": null
          },
          "name": "stderr",
          "output_type": "stream",
          "text": [
            "6250it [02:44, 38.09it/s]\n"
          ]
        },
        {
          "metadata": {
            "tags": null
          },
          "name": "stdout",
          "output_type": "stream",
          "text": [
            "Epoch 2 \t\t Training Loss: (13764.112625956535, 2.2022580201530455) \t\t Validation Loss: (3184.8644323349, 4.072716665389898)\n",
            "Validation Loss Decreased(3961.614742--->3184.864432)\n"
          ]
        },
        {
          "metadata": {
            "tags": null
          },
          "name": "stderr",
          "output_type": "stream",
          "text": [
            "6250it [02:44, 38.08it/s]\n"
          ]
        },
        {
          "metadata": {
            "tags": null
          },
          "name": "stdout",
          "output_type": "stream",
          "text": [
            "Epoch 3 \t\t Training Loss: (11648.72125697136, 1.8637954011154174) \t\t Validation Loss: (2930.5989661216736, 3.7475690103857717)\n",
            "Validation Loss Decreased(3184.864432--->2930.598966)\n"
          ]
        },
        {
          "metadata": {
            "tags": null
          },
          "name": "stderr",
          "output_type": "stream",
          "text": [
            "6250it [02:42, 38.53it/s]\n"
          ]
        },
        {
          "metadata": {
            "tags": null
          },
          "name": "stdout",
          "output_type": "stream",
          "text": [
            "Epoch 4 \t\t Training Loss: (10317.361651062965, 1.6507778641700745) \t\t Validation Loss: (2590.4914541244507, 3.312648918317712)\n",
            "Validation Loss Decreased(2930.598966--->2590.491454)\n"
          ]
        },
        {
          "metadata": {
            "tags": null
          },
          "name": "stderr",
          "output_type": "stream",
          "text": [
            "6250it [02:41, 38.67it/s]\n"
          ]
        },
        {
          "metadata": {
            "tags": null
          },
          "name": "stdout",
          "output_type": "stream",
          "text": [
            "Epoch 5 \t\t Training Loss: (9348.777659118176, 1.495804425458908) \t\t Validation Loss: (2548.781842827797, 3.2593118194728863)\n",
            "Validation Loss Decreased(2590.491454--->2548.781843)\n"
          ]
        },
        {
          "metadata": {
            "tags": null
          },
          "name": "stderr",
          "output_type": "stream",
          "text": [
            "6250it [02:25, 42.86it/s]\n"
          ]
        },
        {
          "metadata": {
            "tags": null
          },
          "name": "stdout",
          "output_type": "stream",
          "text": [
            "Epoch 6 \t\t Training Loss: (8648.98660427332, 1.383837856683731) \t\t Validation Loss: (2302.0849286317825, 2.9438426197337373)\n",
            "Validation Loss Decreased(2548.781843--->2302.084929)\n"
          ]
        },
        {
          "metadata": {
            "tags": null
          },
          "name": "stderr",
          "output_type": "stream",
          "text": [
            "6250it [02:25, 43.07it/s]\n"
          ]
        },
        {
          "metadata": {
            "tags": null
          },
          "name": "stdout",
          "output_type": "stream",
          "text": [
            "Epoch 7 \t\t Training Loss: (8095.819298684597, 1.2953310877895354) \t\t Validation Loss: (2184.367105960846, 2.7933083196430255)\n",
            "Validation Loss Decreased(2302.084929--->2184.367106)\n"
          ]
        },
        {
          "metadata": {
            "tags": null
          },
          "name": "stderr",
          "output_type": "stream",
          "text": [
            "6250it [02:22, 43.95it/s]\n"
          ]
        },
        {
          "metadata": {
            "tags": null
          },
          "name": "stdout",
          "output_type": "stream",
          "text": [
            "Epoch 8 \t\t Training Loss: (7635.4493471980095, 1.2216718955516814) \t\t Validation Loss: (2225.6325138807297, 2.846077383479194)\n"
          ]
        },
        {
          "metadata": {
            "tags": null
          },
          "name": "stderr",
          "output_type": "stream",
          "text": [
            "6250it [02:25, 43.04it/s]\n"
          ]
        },
        {
          "metadata": {
            "tags": null
          },
          "name": "stdout",
          "output_type": "stream",
          "text": [
            "Epoch 9 \t\t Training Loss: (7261.5197612047195, 1.1618431617927552) \t\t Validation Loss: (2210.636840224266, 2.8269013302100587)\n"
          ]
        },
        {
          "metadata": {
            "tags": null
          },
          "name": "stderr",
          "output_type": "stream",
          "text": [
            "6250it [02:27, 42.46it/s]\n"
          ]
        },
        {
          "metadata": {
            "tags": null
          },
          "name": "stdout",
          "output_type": "stream",
          "text": [
            "Epoch 10 \t\t Training Loss: (6958.720790028572, 1.1133953264045715) \t\t Validation Loss: (2055.2727403640747, 2.6282260106957476)\n",
            "Validation Loss Decreased(2184.367106--->2055.272740)\n"
          ]
        },
        {
          "metadata": {
            "tags": null
          },
          "name": "stderr",
          "output_type": "stream",
          "text": [
            "6250it [02:27, 42.38it/s]\n"
          ]
        },
        {
          "metadata": {
            "tags": null
          },
          "name": "stdout",
          "output_type": "stream",
          "text": [
            "Epoch 11 \t\t Training Loss: (6673.684870362282, 1.067789579257965) \t\t Validation Loss: (2015.5212477445602, 2.577392899929105)\n",
            "Validation Loss Decreased(2055.272740--->2015.521248)\n"
          ]
        },
        {
          "metadata": {
            "tags": null
          },
          "name": "stderr",
          "output_type": "stream",
          "text": [
            "6250it [02:28, 42.17it/s]\n"
          ]
        },
        {
          "metadata": {
            "tags": null
          },
          "name": "stdout",
          "output_type": "stream",
          "text": [
            "Epoch 12 \t\t Training Loss: (6428.431854784489, 1.0285490967655182) \t\t Validation Loss: (1945.7019659280777, 2.488109930854319)\n",
            "Validation Loss Decreased(2015.521248--->1945.701966)\n"
          ]
        },
        {
          "metadata": {
            "tags": null
          },
          "name": "stderr",
          "output_type": "stream",
          "text": [
            "6250it [02:13, 46.87it/s]\n"
          ]
        },
        {
          "metadata": {
            "tags": null
          },
          "name": "stdout",
          "output_type": "stream",
          "text": [
            "Epoch 13 \t\t Training Loss: (6224.646181106567, 0.9959433889770508) \t\t Validation Loss: (1917.7209169864655, 2.452328538345864)\n",
            "Validation Loss Decreased(1945.701966--->1917.720917)\n"
          ]
        },
        {
          "metadata": {
            "tags": null
          },
          "name": "stderr",
          "output_type": "stream",
          "text": [
            "6250it [02:05, 49.65it/s]\n"
          ]
        },
        {
          "metadata": {
            "tags": null
          },
          "name": "stdout",
          "output_type": "stream",
          "text": [
            "Epoch 14 \t\t Training Loss: (6039.714427828789, 0.9663543084526062) \t\t Validation Loss: (1860.1247453689575, 2.3786761449730913)\n",
            "Validation Loss Decreased(1917.720917--->1860.124745)\n"
          ]
        },
        {
          "metadata": {
            "tags": null
          },
          "name": "stderr",
          "output_type": "stream",
          "text": [
            "6250it [02:07, 49.20it/s]\n"
          ]
        },
        {
          "metadata": {
            "tags": null
          },
          "name": "stdout",
          "output_type": "stream",
          "text": [
            "Epoch 15 \t\t Training Loss: (5863.624195098877, 0.9381798712158204) \t\t Validation Loss: (1893.307063817978, 2.4211087772608413)\n"
          ]
        },
        {
          "output_type": "stream",
          "name": "stderr",
          "text": [
            "6250it [02:07, 49.13it/s]\n"
          ]
        },
        {
          "output_type": "stream",
          "name": "stdout",
          "text": [
            "Epoch 16 \t\t Training Loss: (5712.220959246159, 0.9139553534793854) \t\t Validation Loss: (1877.084687113762, 2.4003640500175982)\n"
          ]
        },
        {
          "output_type": "stream",
          "name": "stderr",
          "text": [
            "6250it [02:06, 49.58it/s]\n"
          ]
        },
        {
          "output_type": "stream",
          "name": "stdout",
          "text": [
            "Epoch 17 \t\t Training Loss: (5580.952288925648, 0.8929523662281036) \t\t Validation Loss: (1788.4591158628464, 2.2870321174716706)\n",
            "Validation Loss Decreased(1860.124745--->1788.459116)\n"
          ]
        },
        {
          "output_type": "stream",
          "name": "stderr",
          "text": [
            "6250it [02:08, 48.72it/s]\n"
          ]
        },
        {
          "output_type": "stream",
          "name": "stdout",
          "text": [
            "Epoch 18 \t\t Training Loss: (5451.687248647213, 0.872269959783554) \t\t Validation Loss: (1802.4682412147522, 2.3049466000188645)\n"
          ]
        },
        {
          "output_type": "stream",
          "name": "stderr",
          "text": [
            "6250it [02:14, 46.41it/s]\n"
          ]
        },
        {
          "output_type": "stream",
          "name": "stdout",
          "text": [
            "Epoch 19 \t\t Training Loss: (5327.100653588772, 0.8523361045742035) \t\t Validation Loss: (1776.6769856214523, 2.2719654547588903)\n",
            "Validation Loss Decreased(1788.459116--->1776.676986)\n"
          ]
        },
        {
          "output_type": "stream",
          "name": "stderr",
          "text": [
            "6250it [02:14, 46.62it/s]\n"
          ]
        },
        {
          "output_type": "stream",
          "name": "stdout",
          "text": [
            "Epoch 20 \t\t Training Loss: (5225.041429400444, 0.836006628704071) \t\t Validation Loss: (1753.2467070817947, 2.2420034617414255)\n",
            "Validation Loss Decreased(1776.676986--->1753.246707)\n"
          ]
        },
        {
          "output_type": "stream",
          "name": "stderr",
          "text": [
            "6250it [02:11, 47.52it/s]\n"
          ]
        },
        {
          "output_type": "stream",
          "name": "stdout",
          "text": [
            "Epoch 21 \t\t Training Loss: (5120.318281590939, 0.8192509250545502) \t\t Validation Loss: (1796.3456431627274, 2.2971171907451757)\n"
          ]
        },
        {
          "output_type": "stream",
          "name": "stderr",
          "text": [
            "6250it [02:22, 43.74it/s]\n"
          ]
        },
        {
          "output_type": "stream",
          "name": "stdout",
          "text": [
            "Epoch 22 \t\t Training Loss: (5030.4137127399445, 0.8048661940383911) \t\t Validation Loss: (1774.6297190189362, 2.269347466776133)\n"
          ]
        },
        {
          "output_type": "stream",
          "name": "stderr",
          "text": [
            "6250it [02:27, 42.49it/s]\n"
          ]
        },
        {
          "output_type": "stream",
          "name": "stdout",
          "text": [
            "Epoch 23 \t\t Training Loss: (4935.496313005686, 0.7896794100809097) \t\t Validation Loss: (1734.5515322685242, 2.218096588578675)\n",
            "Validation Loss Decreased(1753.246707--->1734.551532)\n"
          ]
        },
        {
          "output_type": "stream",
          "name": "stderr",
          "text": [
            "6250it [02:16, 45.68it/s]\n"
          ]
        },
        {
          "output_type": "stream",
          "name": "stdout",
          "text": [
            "Epoch 24 \t\t Training Loss: (4862.370447695255, 0.7779792716312408) \t\t Validation Loss: (1734.491734623909, 2.218020121002441)\n",
            "Validation Loss Decreased(1734.551532--->1734.491735)\n"
          ]
        },
        {
          "output_type": "stream",
          "name": "stderr",
          "text": [
            "6250it [02:11, 47.60it/s]\n"
          ]
        },
        {
          "output_type": "stream",
          "name": "stdout",
          "text": [
            "Epoch 25 \t\t Training Loss: (4776.985863417387, 0.7643177381467819) \t\t Validation Loss: (1739.4465942382812, 2.224356258616728)\n"
          ]
        },
        {
          "output_type": "stream",
          "name": "stderr",
          "text": [
            "6250it [02:19, 44.69it/s]\n"
          ]
        },
        {
          "output_type": "stream",
          "name": "stdout",
          "text": [
            "Epoch 26 \t\t Training Loss: (4711.558499991894, 0.753849359998703) \t\t Validation Loss: (1724.7381066083908, 2.2055474509058706)\n",
            "Validation Loss Decreased(1734.491735--->1724.738107)\n"
          ]
        },
        {
          "output_type": "stream",
          "name": "stderr",
          "text": [
            "6250it [02:23, 43.70it/s]\n"
          ]
        },
        {
          "output_type": "stream",
          "name": "stdout",
          "text": [
            "Epoch 27 \t\t Training Loss: (4637.1162377893925, 0.7419385980463028) \t\t Validation Loss: (1722.0324491262436, 2.202087530851974)\n",
            "Validation Loss Decreased(1724.738107--->1722.032449)\n"
          ]
        },
        {
          "output_type": "stream",
          "name": "stderr",
          "text": [
            "6250it [02:23, 43.53it/s]\n"
          ]
        },
        {
          "output_type": "stream",
          "name": "stdout",
          "text": [
            "Epoch 28 \t\t Training Loss: (4580.096899241209, 0.7328155038785934) \t\t Validation Loss: (1706.7287948131561, 2.1825176404260307)\n",
            "Validation Loss Decreased(1722.032449--->1706.728795)\n"
          ]
        },
        {
          "output_type": "stream",
          "name": "stderr",
          "text": [
            "6250it [02:24, 43.39it/s]\n"
          ]
        },
        {
          "output_type": "stream",
          "name": "stdout",
          "text": [
            "Epoch 29 \t\t Training Loss: (4515.409800291061, 0.7224655680465698) \t\t Validation Loss: (1695.210100531578, 2.1677878523421716)\n",
            "Validation Loss Decreased(1706.728795--->1695.210101)\n"
          ]
        },
        {
          "output_type": "stream",
          "name": "stderr",
          "text": [
            "6250it [02:24, 43.36it/s]\n"
          ]
        },
        {
          "output_type": "stream",
          "name": "stdout",
          "text": [
            "Epoch 30 \t\t Training Loss: (4450.352580696344, 0.7120564129114151) \t\t Validation Loss: (1681.8223263025284, 2.150667936448246)\n",
            "Validation Loss Decreased(1695.210101--->1681.822326)\n"
          ]
        }
      ],
      "source": [
        "for epoch in range(epochs):\n",
        "    min_valid_loss = train_loop(epoch, min_valid_loss, loss_func, UserItemEmbeddingNNNet)"
      ]
    },
    {
      "cell_type": "code",
      "source": [
        "tusers = torch.tensor(df_test.userId.values)\n",
        "titems = torch.tensor(df_test.movieId.values)"
      ],
      "metadata": {
        "id": "dQbDP-BbLSKL"
      },
      "execution_count": 16,
      "outputs": []
    },
    {
      "cell_type": "code",
      "source": [
        "# bestmodel = UserItemEmbeddingNNNet(N, M, K)\n",
        "# bestmodel.load_state_dict(torch.load('saved_model.pth'))\n",
        "# bestmodel.eval()\n",
        "# tpredsbest = bestmodel(tusers, titems)"
      ],
      "metadata": {
        "id": "CvA7t2ss5kjB"
      },
      "execution_count": 18,
      "outputs": []
    },
    {
      "cell_type": "code",
      "source": [
        "UserItemEmbeddingNNNet.eval()\n",
        "tpreds = UserItemEmbeddingNNNet(tusers, titems)"
      ],
      "metadata": {
        "id": "yEf0uQYtKo4w"
      },
      "execution_count": 19,
      "outputs": []
    },
    {
      "cell_type": "code",
      "source": [
        "len(tpreds)"
      ],
      "metadata": {
        "id": "R1AMfVXKLaVS",
        "colab": {
          "base_uri": "https://localhost:8080/"
        },
        "outputId": "d8ad92df-4b8f-4cd2-ec02-17833d300a1c"
      },
      "execution_count": 20,
      "outputs": [
        {
          "output_type": "execute_result",
          "data": {
            "text/plain": [
              "100000"
            ]
          },
          "metadata": {},
          "execution_count": 20
        }
      ]
    },
    {
      "cell_type": "code",
      "source": [
        "tpredsfinal = tpreds.detach().numpy()\n",
        "tpredsfinal = (tpredsfinal>3).astype(int)\n",
        "tratings = df_test.rating.values\n",
        "tratings = (tratings>3).astype(int)\n",
        "tratings, tpredsfinal"
      ],
      "metadata": {
        "id": "kMNiG6ytMGas",
        "colab": {
          "base_uri": "https://localhost:8080/"
        },
        "outputId": "88300231-e757-4275-e1c1-d70d55ebc629"
      },
      "execution_count": 21,
      "outputs": [
        {
          "output_type": "execute_result",
          "data": {
            "text/plain": [
              "(array([0, 1, 1, ..., 1, 0, 0]), array([0, 1, 0, ..., 0, 1, 1]))"
            ]
          },
          "metadata": {},
          "execution_count": 21
        }
      ]
    },
    {
      "cell_type": "code",
      "source": [
        "f1_score(tpredsfinal, tratings)"
      ],
      "metadata": {
        "id": "N75YrEqiLdW9",
        "colab": {
          "base_uri": "https://localhost:8080/"
        },
        "outputId": "e57e0f9b-5a60-4704-a267-f7746a2f3b77"
      },
      "execution_count": 22,
      "outputs": [
        {
          "output_type": "execute_result",
          "data": {
            "text/plain": [
              "0.7660234498474657"
            ]
          },
          "metadata": {},
          "execution_count": 22
        }
      ]
    },
    {
      "cell_type": "code",
      "source": [
        "tratings = df_test.rating.values\n",
        "tpredsfinal = tpreds.detach().numpy()\n",
        "tpredsfinal = (tpredsfinal>2.5).astype(int)\n",
        "tratings = (tratings>2.5).astype(int)\n",
        "f1_score(tpredsfinal, tratings)"
      ],
      "metadata": {
        "id": "PciFev4jNGrU",
        "colab": {
          "base_uri": "https://localhost:8080/"
        },
        "outputId": "d7106424-67c2-4b95-c9bf-666e0738d892"
      },
      "execution_count": 23,
      "outputs": [
        {
          "output_type": "execute_result",
          "data": {
            "text/plain": [
              "0.8936955180801415"
            ]
          },
          "metadata": {},
          "execution_count": 23
        }
      ]
    },
    {
      "cell_type": "code",
      "source": [],
      "metadata": {
        "id": "-J1jCXUAt3zU"
      },
      "execution_count": null,
      "outputs": []
    }
  ],
  "metadata": {
    "colab": {
      "collapsed_sections": [],
      "provenance": []
    },
    "kernelspec": {
      "display_name": "Python 3",
      "name": "python3"
    },
    "language_info": {
      "name": "python"
    }
  },
  "nbformat": 4,
  "nbformat_minor": 0
}