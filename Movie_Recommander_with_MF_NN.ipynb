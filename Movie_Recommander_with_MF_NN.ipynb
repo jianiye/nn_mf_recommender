{
  "cells": [
    {
      "cell_type": "code",
      "source": [
        "import pickle\n",
        "import numpy as np\n",
        "import pandas as pd\n",
        "import matplotlib.pyplot as plt\n",
        "from sklearn.utils import shuffle\n",
        "from torchvision import datasets\n",
        "from torch.utils.data import Dataset, DataLoader\n",
        "from sklearn.metrics import f1_score\n",
        "import json\n",
        "\n",
        "import numpy as np\n",
        "import pandas as pd\n",
        "import torch\n",
        "from torch import nn\n",
        "from tqdm import tqdm\n"
      ],
      "metadata": {
        "id": "UFbVjvg_JtmC"
      },
      "execution_count": 1,
      "outputs": []
    },
    {
      "cell_type": "markdown",
      "source": [
        "## Data preprocessing"
      ],
      "metadata": {
        "id": "NLdAPmsUXOVB"
      }
    },
    {
      "cell_type": "code",
      "execution_count": 2,
      "metadata": {
        "colab": {
          "base_uri": "https://localhost:8080/"
        },
        "id": "9t45jgkjm4eT",
        "outputId": "cedb77f2-bdc8-448f-a3ef-3ebcdb5944c8"
      },
      "outputs": [
        {
          "output_type": "stream",
          "name": "stdout",
          "text": [
            "Downloading movielens data...\n"
          ]
        }
      ],
      "source": [
        "print(\"Downloading movielens data...\")\n",
        "from urllib.request import urlretrieve\n",
        "import zipfile\n",
        "\n",
        "# Download the data\n",
        "urlretrieve(\"http://files.grouplens.org/datasets/movielens/ml-20m.zip\", \"movielens.zip\")\n",
        "zip_ref = zipfile.ZipFile('movielens.zip', \"r\")\n",
        "zip_ref.extractall()\n"
      ]
    },
    {
      "cell_type": "code",
      "source": [
        "# load in the data\n",
        "df = pd.read_csv('ml-20m/ratings.csv')"
      ],
      "metadata": {
        "id": "94nkxGT1RXxP"
      },
      "execution_count": 3,
      "outputs": []
    },
    {
      "cell_type": "code",
      "execution_count": 4,
      "metadata": {
        "id": "6mBuNqRLpvIG",
        "colab": {
          "base_uri": "https://localhost:8080/",
          "height": 206
        },
        "outputId": "8af49fef-899a-4854-e6cd-15df239fd52b"
      },
      "outputs": [
        {
          "output_type": "execute_result",
          "data": {
            "text/plain": [
              "   userId  movieId  rating   timestamp\n",
              "0       1        2     3.5  1112486027\n",
              "1       1       29     3.5  1112484676\n",
              "2       1       32     3.5  1112484819\n",
              "3       1       47     3.5  1112484727\n",
              "4       1       50     3.5  1112484580"
            ],
            "text/html": [
              "\n",
              "  <div id=\"df-f402c7fd-fd98-4ac2-9d8d-e7c42b9d740f\">\n",
              "    <div class=\"colab-df-container\">\n",
              "      <div>\n",
              "<style scoped>\n",
              "    .dataframe tbody tr th:only-of-type {\n",
              "        vertical-align: middle;\n",
              "    }\n",
              "\n",
              "    .dataframe tbody tr th {\n",
              "        vertical-align: top;\n",
              "    }\n",
              "\n",
              "    .dataframe thead th {\n",
              "        text-align: right;\n",
              "    }\n",
              "</style>\n",
              "<table border=\"1\" class=\"dataframe\">\n",
              "  <thead>\n",
              "    <tr style=\"text-align: right;\">\n",
              "      <th></th>\n",
              "      <th>userId</th>\n",
              "      <th>movieId</th>\n",
              "      <th>rating</th>\n",
              "      <th>timestamp</th>\n",
              "    </tr>\n",
              "  </thead>\n",
              "  <tbody>\n",
              "    <tr>\n",
              "      <th>0</th>\n",
              "      <td>1</td>\n",
              "      <td>2</td>\n",
              "      <td>3.5</td>\n",
              "      <td>1112486027</td>\n",
              "    </tr>\n",
              "    <tr>\n",
              "      <th>1</th>\n",
              "      <td>1</td>\n",
              "      <td>29</td>\n",
              "      <td>3.5</td>\n",
              "      <td>1112484676</td>\n",
              "    </tr>\n",
              "    <tr>\n",
              "      <th>2</th>\n",
              "      <td>1</td>\n",
              "      <td>32</td>\n",
              "      <td>3.5</td>\n",
              "      <td>1112484819</td>\n",
              "    </tr>\n",
              "    <tr>\n",
              "      <th>3</th>\n",
              "      <td>1</td>\n",
              "      <td>47</td>\n",
              "      <td>3.5</td>\n",
              "      <td>1112484727</td>\n",
              "    </tr>\n",
              "    <tr>\n",
              "      <th>4</th>\n",
              "      <td>1</td>\n",
              "      <td>50</td>\n",
              "      <td>3.5</td>\n",
              "      <td>1112484580</td>\n",
              "    </tr>\n",
              "  </tbody>\n",
              "</table>\n",
              "</div>\n",
              "      <button class=\"colab-df-convert\" onclick=\"convertToInteractive('df-f402c7fd-fd98-4ac2-9d8d-e7c42b9d740f')\"\n",
              "              title=\"Convert this dataframe to an interactive table.\"\n",
              "              style=\"display:none;\">\n",
              "        \n",
              "  <svg xmlns=\"http://www.w3.org/2000/svg\" height=\"24px\"viewBox=\"0 0 24 24\"\n",
              "       width=\"24px\">\n",
              "    <path d=\"M0 0h24v24H0V0z\" fill=\"none\"/>\n",
              "    <path d=\"M18.56 5.44l.94 2.06.94-2.06 2.06-.94-2.06-.94-.94-2.06-.94 2.06-2.06.94zm-11 1L8.5 8.5l.94-2.06 2.06-.94-2.06-.94L8.5 2.5l-.94 2.06-2.06.94zm10 10l.94 2.06.94-2.06 2.06-.94-2.06-.94-.94-2.06-.94 2.06-2.06.94z\"/><path d=\"M17.41 7.96l-1.37-1.37c-.4-.4-.92-.59-1.43-.59-.52 0-1.04.2-1.43.59L10.3 9.45l-7.72 7.72c-.78.78-.78 2.05 0 2.83L4 21.41c.39.39.9.59 1.41.59.51 0 1.02-.2 1.41-.59l7.78-7.78 2.81-2.81c.8-.78.8-2.07 0-2.86zM5.41 20L4 18.59l7.72-7.72 1.47 1.35L5.41 20z\"/>\n",
              "  </svg>\n",
              "      </button>\n",
              "      \n",
              "  <style>\n",
              "    .colab-df-container {\n",
              "      display:flex;\n",
              "      flex-wrap:wrap;\n",
              "      gap: 12px;\n",
              "    }\n",
              "\n",
              "    .colab-df-convert {\n",
              "      background-color: #E8F0FE;\n",
              "      border: none;\n",
              "      border-radius: 50%;\n",
              "      cursor: pointer;\n",
              "      display: none;\n",
              "      fill: #1967D2;\n",
              "      height: 32px;\n",
              "      padding: 0 0 0 0;\n",
              "      width: 32px;\n",
              "    }\n",
              "\n",
              "    .colab-df-convert:hover {\n",
              "      background-color: #E2EBFA;\n",
              "      box-shadow: 0px 1px 2px rgba(60, 64, 67, 0.3), 0px 1px 3px 1px rgba(60, 64, 67, 0.15);\n",
              "      fill: #174EA6;\n",
              "    }\n",
              "\n",
              "    [theme=dark] .colab-df-convert {\n",
              "      background-color: #3B4455;\n",
              "      fill: #D2E3FC;\n",
              "    }\n",
              "\n",
              "    [theme=dark] .colab-df-convert:hover {\n",
              "      background-color: #434B5C;\n",
              "      box-shadow: 0px 1px 3px 1px rgba(0, 0, 0, 0.15);\n",
              "      filter: drop-shadow(0px 1px 2px rgba(0, 0, 0, 0.3));\n",
              "      fill: #FFFFFF;\n",
              "    }\n",
              "  </style>\n",
              "\n",
              "      <script>\n",
              "        const buttonEl =\n",
              "          document.querySelector('#df-f402c7fd-fd98-4ac2-9d8d-e7c42b9d740f button.colab-df-convert');\n",
              "        buttonEl.style.display =\n",
              "          google.colab.kernel.accessAllowed ? 'block' : 'none';\n",
              "\n",
              "        async function convertToInteractive(key) {\n",
              "          const element = document.querySelector('#df-f402c7fd-fd98-4ac2-9d8d-e7c42b9d740f');\n",
              "          const dataTable =\n",
              "            await google.colab.kernel.invokeFunction('convertToInteractive',\n",
              "                                                     [key], {});\n",
              "          if (!dataTable) return;\n",
              "\n",
              "          const docLinkHtml = 'Like what you see? Visit the ' +\n",
              "            '<a target=\"_blank\" href=https://colab.research.google.com/notebooks/data_table.ipynb>data table notebook</a>'\n",
              "            + ' to learn more about interactive tables.';\n",
              "          element.innerHTML = '';\n",
              "          dataTable['output_type'] = 'display_data';\n",
              "          await google.colab.output.renderOutput(dataTable, element);\n",
              "          const docLink = document.createElement('div');\n",
              "          docLink.innerHTML = docLinkHtml;\n",
              "          element.appendChild(docLink);\n",
              "        }\n",
              "      </script>\n",
              "    </div>\n",
              "  </div>\n",
              "  "
            ]
          },
          "metadata": {},
          "execution_count": 4
        }
      ],
      "source": [
        "df.head()"
      ]
    },
    {
      "cell_type": "code",
      "source": [
        "bs = 128\n",
        "reg = 0. # regularization penalty\n"
      ],
      "metadata": {
        "id": "1SweopEqGg7X"
      },
      "execution_count": 5,
      "outputs": []
    },
    {
      "cell_type": "code",
      "source": [
        "# Customize dataset\n",
        "N = df.userId.max() + 1 # number of users\n",
        "M = df.movieId.max() + 1 # number of movies\n",
        "\n",
        "# split into train and test\n",
        "df = shuffle(df)\n",
        "df = df.iloc[:1000000]\n",
        "cutoff = int(0.8*len(df))\n",
        "cutoffeval = int(0.9*len(df))\n",
        "df_train = df.iloc[:cutoff]\n",
        "df_eval = df.iloc[cutoff:cutoffeval]\n",
        "df_test = df.iloc[cutoffeval:]\n",
        "\n",
        "# initialize variables\n",
        "K = 10 # latent dimensionality\n",
        "mu = df_train.rating.mean()\n"
      ],
      "metadata": {
        "id": "6ckgRCtYSHLQ"
      },
      "execution_count": 6,
      "outputs": []
    },
    {
      "cell_type": "code",
      "execution_count": 7,
      "metadata": {
        "id": "6rxQ74x5rZrb",
        "colab": {
          "base_uri": "https://localhost:8080/"
        },
        "outputId": "cd39be67-64ec-4a0c-e1b1-32b7fdae0696"
      },
      "outputs": [
        {
          "output_type": "execute_result",
          "data": {
            "text/plain": [
              "(138494, 131263, 10, 800000, 1000000, 3.5261075)"
            ]
          },
          "metadata": {},
          "execution_count": 7
        }
      ],
      "source": [
        "N,M,K,len(df_train),len(df), mu"
      ]
    },
    {
      "cell_type": "code",
      "source": [
        "class ratingdataset(Dataset):\n",
        "  def __init__(self, df):\n",
        "    self.df = df\n",
        "    self.u = df.userId.values\n",
        "    self.m = df.movieId.values\n",
        "    self.r = df.rating.values\n",
        "    self.N = self.u.max() + 1\n",
        "    self.M = self.m.max() + 1\n",
        "\n",
        "  def __len__(self):\n",
        "    return len(self.u)\n",
        "  \n",
        "  def __getitem__(self, idx):\n",
        "    return [self.u[idx], self.m[idx]], self.r[idx]\n"
      ],
      "metadata": {
        "id": "_FEd3bmkAR8p"
      },
      "execution_count": 8,
      "outputs": []
    },
    {
      "cell_type": "code",
      "source": [
        "ratingData_train = ratingdataset(df_train)\n",
        "ratingData_eval = ratingdataset(df_eval)\n",
        "ratingData_test = ratingdataset(df_test)"
      ],
      "metadata": {
        "id": "hTn6R9OKBtN1"
      },
      "execution_count": 9,
      "outputs": []
    },
    {
      "cell_type": "code",
      "source": [
        "train_dataloader = DataLoader(ratingData_train, batch_size=bs, shuffle=True)\n",
        "eval_dataloader = DataLoader(ratingData_eval, batch_size=bs, shuffle=True)\n",
        "test_dataloader = DataLoader(ratingData_test, batch_size=bs, shuffle=True)"
      ],
      "metadata": {
        "id": "QU9a8sE390Bi"
      },
      "execution_count": 10,
      "outputs": []
    },
    {
      "cell_type": "code",
      "source": [
        "train_dataloader, eval_dataloader, test_dataloader"
      ],
      "metadata": {
        "colab": {
          "base_uri": "https://localhost:8080/"
        },
        "id": "UE7uTV8wXXTa",
        "outputId": "e9d87c83-5436-4061-b5eb-13607addd9c5"
      },
      "execution_count": 11,
      "outputs": [
        {
          "output_type": "execute_result",
          "data": {
            "text/plain": [
              "(<torch.utils.data.dataloader.DataLoader at 0x7f85b2e24b90>,\n",
              " <torch.utils.data.dataloader.DataLoader at 0x7f85b2e8dc10>,\n",
              " <torch.utils.data.dataloader.DataLoader at 0x7f85b2e8d750>)"
            ]
          },
          "metadata": {},
          "execution_count": 11
        }
      ]
    },
    {
      "cell_type": "code",
      "execution_count": 12,
      "metadata": {
        "id": "_bHnIbyDr_hV"
      },
      "outputs": [],
      "source": [
        "# # direct data\n",
        "# users = torch.tensor(df_train.userId.values)\n",
        "# items = torch.tensor(df_train.movieId.values)\n",
        "# ratings = torch.tensor(df_train.rating.values)"
      ]
    },
    {
      "cell_type": "code",
      "execution_count": 13,
      "metadata": {
        "id": "BBeas35o33I1",
        "colab": {
          "base_uri": "https://localhost:8080/"
        },
        "outputId": "a25c1704-95ad-48b1-f030-2819677b3720"
      },
      "outputs": [
        {
          "output_type": "stream",
          "name": "stdout",
          "text": [
            "UserItemEmbeddingNNNet(\n",
            "  (u): Embedding(138494, 10)\n",
            "  (m): Embedding(131263, 10)\n",
            "  (u_bias): Embedding(138494, 1)\n",
            "  (m_bias): Embedding(131263, 1)\n",
            "  (lout): Linear(in_features=20, out_features=400, bias=True)\n",
            "  (act): ReLU()\n",
            "  (out): Linear(in_features=400, out_features=1, bias=True)\n",
            ")\n"
          ]
        }
      ],
      "source": [
        "class UserItemEmbeddingNNNet(torch.nn.Module):\n",
        "    def __init__(self, n_users, n_items, k_factors, embedding_dropout = 0.02, hidden = 10, dropouts = 0.2):\n",
        "\n",
        "        super(UserItemEmbeddingNNNet, self).__init__()\n",
        "        self.u = torch.nn.Embedding(n_users, k_factors)\n",
        "        self.m = torch.nn.Embedding(n_items, k_factors)\n",
        "        self.u_bias = torch.nn.Embedding(n_users, 1)\n",
        "        self.m_bias = torch.nn.Embedding(n_items, 1)\n",
        "        self.lout = torch.nn.Linear(2*k_factors, 400)\n",
        "        self.act = torch.nn.ReLU()\n",
        "        self.out = torch.nn.Linear(400,1)\n",
        "\n",
        "\n",
        "    def forward(self, users, items):\n",
        "        uembed = self.u(users)\n",
        "        membed = self.m(items)\n",
        "        ubias = self.u_bias(users)\n",
        "        mbias = self.m_bias(items)\n",
        "        umdot = torch.mul(uembed,membed)\n",
        "        umdot = torch.sum(umdot,1)\n",
        "        umdot = torch.reshape(umdot, (umdot.shape[0], 1))\n",
        "        #umcat = torch.cat((uembed.clone().detach(),membed.clone().detach()), 1)\n",
        "        umcat = torch.cat((uembed,membed), 1)\n",
        "        umcat = self.lout(umcat)\n",
        "        umcat = self.act(umcat)\n",
        "        umcat = self.out(umcat)\n",
        "        output = torch.add(umdot, umcat)\n",
        "        # print(output[0], umdot[0], umcat[0])\n",
        "        output = torch.add(output, ubias)\n",
        "        output = torch.add(output, mbias)\n",
        "        # or use: result = torch.sum(torch.stack([x, y, ...]), dim=0)\n",
        "        output = torch.flatten(output)\n",
        "        return output\n",
        "\n",
        "UserItemEmbeddingNNNet = UserItemEmbeddingNNNet(N, M, K)\n",
        "print(UserItemEmbeddingNNNet)"
      ]
    },
    {
      "cell_type": "code",
      "execution_count": 14,
      "metadata": {
        "id": "i8cej51N7mQg"
      },
      "outputs": [],
      "source": [
        "epochs = 10\n",
        "lr = 0.05\n",
        "min_valid_loss = np.inf\n",
        "loss_func = torch.nn.MSELoss()\n",
        "\n",
        "def train_loop(epoch, min_valid_loss, loss_func, model):\n",
        "    optimizer = torch.optim.SGD(model.parameters(), lr=lr, momentum=0.9)\n",
        "    train_loss = 0.0\n",
        "    model.train()\n",
        "    \n",
        "    for i, data in tqdm(enumerate(train_dataloader)):\n",
        "        inputs, labels = data\n",
        "        if torch.cuda.is_available():\n",
        "            inputs, labels = inputs.cuda(), labels.cuda()\n",
        "        users, items = inputs[0], inputs[1]\n",
        "\n",
        "        optimizer.zero_grad()\n",
        "        target = model(users, items)\n",
        "        loss = loss_func(target.float(), labels.float())\n",
        "        #loss = loss_func(target, labels)\n",
        "        loss.backward()\n",
        "        optimizer.step()\n",
        "        train_loss += loss.item()\n",
        "    \n",
        "    valid_loss = 0.0\n",
        "    model.eval()     # Optional when not using model Specific layer\n",
        "    for data in eval_dataloader:\n",
        "        inputs, labels = data\n",
        "        if torch.cuda.is_available():\n",
        "            inputs, labels =inputs.cuda(), labels.cuda()\n",
        "        users, items = inputs[0], inputs[1]\n",
        "        target = model(users, items)\n",
        "        loss = loss_func(target.float(), labels.float())\n",
        "        valid_loss += loss.item() * len(inputs)\n",
        "\n",
        "    if epoch%1==0:\n",
        "        print(f'Epoch {epoch+1} \\t\\t Training Loss: {train_loss, train_loss / len(train_dataloader)} \\t\\t Validation Loss: {valid_loss, valid_loss / len(eval_dataloader)}')\n",
        "    if min_valid_loss > valid_loss:\n",
        "        print(f\"Validation Loss Decreased({min_valid_loss:.6f}--->{valid_loss:.6f})\")\n",
        "        min_valid_loss = valid_loss\n",
        "        # Saving State Dict\n",
        "        torch.save(model.state_dict(), 'saved_model.pth')\n",
        "    return min_valid_loss\n",
        " "
      ]
    },
    {
      "cell_type": "code",
      "execution_count": 15,
      "metadata": {
        "id": "f_Gc8h-P7mEF",
        "colab": {
          "base_uri": "https://localhost:8080/"
        },
        "outputId": "b26a8e7c-6ebb-4577-f19a-26589b63fe20"
      },
      "outputs": [
        {
          "metadata": {
            "tags": null
          },
          "name": "stderr",
          "output_type": "stream",
          "text": [
            "6250it [03:48, 27.31it/s]\n"
          ]
        },
        {
          "metadata": {
            "tags": null
          },
          "name": "stdout",
          "output_type": "stream",
          "text": [
            "Epoch 1 \t\t Training Loss: (19435.097393989563, 3.1096155830383303) \t\t Validation Loss: (3723.798581838608, 4.761890769614588)\n",
            "Validation Loss Decreased(inf--->3723.798582)\n"
          ]
        },
        {
          "metadata": {
            "tags": null
          },
          "name": "stderr",
          "output_type": "stream",
          "text": [
            "6250it [03:51, 27.02it/s]\n"
          ]
        },
        {
          "metadata": {
            "tags": null
          },
          "name": "stdout",
          "output_type": "stream",
          "text": [
            "Epoch 2 \t\t Training Loss: (13724.028740286827, 2.1958445984458925) \t\t Validation Loss: (3211.930772781372, 4.107328353940374)\n",
            "Validation Loss Decreased(3723.798582--->3211.930773)\n"
          ]
        },
        {
          "metadata": {
            "tags": null
          },
          "name": "stderr",
          "output_type": "stream",
          "text": [
            "6250it [03:48, 27.39it/s]\n"
          ]
        },
        {
          "metadata": {
            "tags": null
          },
          "name": "stdout",
          "output_type": "stream",
          "text": [
            "Epoch 3 \t\t Training Loss: (11633.094459533691, 1.8612951135253906) \t\t Validation Loss: (3036.2382473945618, 3.8826576053638897)\n",
            "Validation Loss Decreased(3211.930773--->3036.238247)\n"
          ]
        },
        {
          "metadata": {
            "tags": null
          },
          "name": "stderr",
          "output_type": "stream",
          "text": [
            "6250it [03:37, 28.74it/s]\n"
          ]
        },
        {
          "metadata": {
            "tags": null
          },
          "name": "stdout",
          "output_type": "stream",
          "text": [
            "Epoch 4 \t\t Training Loss: (10302.01851093769, 1.6483229617500306) \t\t Validation Loss: (2608.7273111343384, 3.335968428560535)\n",
            "Validation Loss Decreased(3036.238247--->2608.727311)\n"
          ]
        },
        {
          "metadata": {
            "tags": null
          },
          "name": "stderr",
          "output_type": "stream",
          "text": [
            "6250it [03:26, 30.28it/s]\n"
          ]
        },
        {
          "metadata": {
            "tags": null
          },
          "name": "stdout",
          "output_type": "stream",
          "text": [
            "Epoch 5 \t\t Training Loss: (9355.773501038551, 1.4969237601661682) \t\t Validation Loss: (2553.3668506145477, 3.2651750007858666)\n",
            "Validation Loss Decreased(2608.727311--->2553.366851)\n"
          ]
        },
        {
          "metadata": {
            "tags": null
          },
          "name": "stderr",
          "output_type": "stream",
          "text": [
            "6250it [03:37, 28.68it/s]\n"
          ]
        },
        {
          "metadata": {
            "tags": null
          },
          "name": "stdout",
          "output_type": "stream",
          "text": [
            "Epoch 6 \t\t Training Loss: (8662.600610435009, 1.3860160976696014) \t\t Validation Loss: (2359.6794426441193, 3.017492893406802)\n",
            "Validation Loss Decreased(2553.366851--->2359.679443)\n"
          ]
        },
        {
          "metadata": {
            "tags": null
          },
          "name": "stderr",
          "output_type": "stream",
          "text": [
            "6250it [03:04, 33.84it/s]\n"
          ]
        },
        {
          "metadata": {
            "tags": null
          },
          "name": "stdout",
          "output_type": "stream",
          "text": [
            "Epoch 7 \t\t Training Loss: (8097.742522656918, 1.2956388036251067) \t\t Validation Loss: (2219.2110756635666, 2.837865825656735)\n",
            "Validation Loss Decreased(2359.679443--->2219.211076)\n"
          ]
        },
        {
          "output_type": "stream",
          "name": "stderr",
          "text": [
            "6250it [02:29, 41.77it/s]\n"
          ]
        },
        {
          "output_type": "stream",
          "name": "stdout",
          "text": [
            "Epoch 8 \t\t Training Loss: (7648.609627246857, 1.223777540359497) \t\t Validation Loss: (2150.5205614566803, 2.7500262934228648)\n",
            "Validation Loss Decreased(2219.211076--->2150.520561)\n"
          ]
        },
        {
          "output_type": "stream",
          "name": "stderr",
          "text": [
            "6250it [02:28, 41.95it/s]\n"
          ]
        },
        {
          "output_type": "stream",
          "name": "stdout",
          "text": [
            "Epoch 9 \t\t Training Loss: (7234.131665945053, 1.1574610665512084) \t\t Validation Loss: (2086.32681453228, 2.6679371029824552)\n",
            "Validation Loss Decreased(2150.520561--->2086.326815)\n"
          ]
        },
        {
          "output_type": "stream",
          "name": "stderr",
          "text": [
            "6250it [02:29, 41.89it/s]\n"
          ]
        },
        {
          "output_type": "stream",
          "name": "stdout",
          "text": [
            "Epoch 10 \t\t Training Loss: (6953.18362724781, 1.1125093803596497) \t\t Validation Loss: (2044.7947500944138, 2.6148270461565395)\n",
            "Validation Loss Decreased(2086.326815--->2044.794750)\n"
          ]
        }
      ],
      "source": [
        "for epoch in range(epochs):\n",
        "    min_valid_loss = train_loop(epoch, min_valid_loss, loss_func, UserItemEmbeddingNNNet)"
      ]
    },
    {
      "cell_type": "code",
      "source": [
        "tusers = torch.tensor(df_test.userId.values)\n",
        "titems = torch.tensor(df_test.movieId.values)"
      ],
      "metadata": {
        "id": "dQbDP-BbLSKL"
      },
      "execution_count": 16,
      "outputs": []
    },
    {
      "cell_type": "code",
      "source": [
        "UserItemEmbeddingNNNet.eval()\n",
        "tpreds = UserItemEmbeddingNNNet(tusers, titems)"
      ],
      "metadata": {
        "id": "yEf0uQYtKo4w"
      },
      "execution_count": 17,
      "outputs": []
    },
    {
      "cell_type": "code",
      "source": [
        "len(tpreds)"
      ],
      "metadata": {
        "id": "R1AMfVXKLaVS",
        "colab": {
          "base_uri": "https://localhost:8080/"
        },
        "outputId": "015557ce-74a5-47f9-a92d-1fe8eead57aa"
      },
      "execution_count": 18,
      "outputs": [
        {
          "output_type": "execute_result",
          "data": {
            "text/plain": [
              "100000"
            ]
          },
          "metadata": {},
          "execution_count": 18
        }
      ]
    },
    {
      "cell_type": "code",
      "source": [
        "tpredsfinal = tpreds.detach().numpy()\n",
        "tpredsfinal = (tpredsfinal>3).astype(int)\n",
        "tratings = df_test.rating.values\n",
        "tratings = (tratings>3).astype(int)\n",
        "tratings, tpredsfinal"
      ],
      "metadata": {
        "id": "kMNiG6ytMGas",
        "colab": {
          "base_uri": "https://localhost:8080/"
        },
        "outputId": "96a943cb-2f7c-4c76-8276-cf1ed2e20b3e"
      },
      "execution_count": 19,
      "outputs": [
        {
          "output_type": "execute_result",
          "data": {
            "text/plain": [
              "(array([0, 0, 1, ..., 0, 1, 1]), array([0, 1, 1, ..., 1, 1, 1]))"
            ]
          },
          "metadata": {},
          "execution_count": 19
        }
      ]
    },
    {
      "cell_type": "code",
      "source": [
        "f1_score(tpredsfinal, tratings)"
      ],
      "metadata": {
        "id": "N75YrEqiLdW9",
        "colab": {
          "base_uri": "https://localhost:8080/"
        },
        "outputId": "b1f5a8ca-ff32-4fef-dff7-cd61bdbb2379"
      },
      "execution_count": 20,
      "outputs": [
        {
          "output_type": "execute_result",
          "data": {
            "text/plain": [
              "0.7463350535518967"
            ]
          },
          "metadata": {},
          "execution_count": 20
        }
      ]
    },
    {
      "cell_type": "code",
      "source": [
        "tratings = df_test.rating.values\n",
        "tpredsfinal = tpreds.detach().numpy()\n",
        "tpredsfinal = (tpredsfinal>2.5).astype(int)\n",
        "tratings = (tratings>2.5).astype(int)\n",
        "f1_score(tpredsfinal, tratings)"
      ],
      "metadata": {
        "id": "PciFev4jNGrU",
        "colab": {
          "base_uri": "https://localhost:8080/"
        },
        "outputId": "04f1e483-bef0-4c08-9e2e-946e0cb9edf2"
      },
      "execution_count": 21,
      "outputs": [
        {
          "output_type": "execute_result",
          "data": {
            "text/plain": [
              "0.881347013943699"
            ]
          },
          "metadata": {},
          "execution_count": 21
        }
      ]
    },
    {
      "cell_type": "code",
      "source": [],
      "metadata": {
        "id": "-J1jCXUAt3zU"
      },
      "execution_count": 21,
      "outputs": []
    }
  ],
  "metadata": {
    "colab": {
      "collapsed_sections": [],
      "provenance": []
    },
    "kernelspec": {
      "display_name": "Python 3",
      "name": "python3"
    },
    "language_info": {
      "name": "python"
    }
  },
  "nbformat": 4,
  "nbformat_minor": 0
}