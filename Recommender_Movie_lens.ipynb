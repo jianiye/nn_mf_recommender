{
 "cells": [
  {
   "cell_type": "code",
   "execution_count": 1,
   "id": "999d7f25",
   "metadata": {},
   "outputs": [],
   "source": [
    "from __future__ import print_function, division\n",
    "from builtins import range, input\n",
    "# Note: you may need to update your version of future\n",
    "# sudo pip install -U future\n",
    "\n",
    "import pickle\n",
    "import numpy as np\n",
    "import pandas as pd\n",
    "import matplotlib.pyplot as plt\n",
    "from sklearn.utils import shuffle\n",
    "\n",
    "import numpy as np\n",
    "import pandas as pd\n",
    "import torch\n",
    "from torch import nn\n",
    "from tqdm import tqdm\n"
   ]
  },
  {
   "cell_type": "code",
   "execution_count": 2,
   "id": "6b92e324",
   "metadata": {},
   "outputs": [],
   "source": [
    "# load in the data\n",
    "df = pd.read_csv('MovieLens_20M_Dataset/edited_rating.csv')\n",
    "\n",
    "N = df.userId.max() + 1 # number of users\n",
    "M = df.movie_idx.max() + 1 # number of movies\n",
    "\n",
    "# split into train and test\n",
    "df = shuffle(df)\n",
    "cutoff = int(0.008*len(df))\n",
    "cutoffe = int(0.01*len(df))\n",
    "df_train = df.iloc[:cutoff]\n",
    "df_test = df.iloc[cutoff:cutoffe]\n",
    "\n",
    "# initialize variables\n",
    "K = 10 # latent dimensionality\n",
    "mu = df_train.rating.mean()\n",
    "epochs = 15\n",
    "bs = 1\n",
    "lr = 0.01\n",
    "reg = 0. # regularization penalty"
   ]
  },
  {
   "cell_type": "code",
   "execution_count": 3,
   "id": "9c503ecf",
   "metadata": {},
   "outputs": [
    {
     "data": {
      "text/plain": [
       "(138493, 26744, 10, 160002, 20000263, 3.526090298871264)"
      ]
     },
     "execution_count": 3,
     "metadata": {},
     "output_type": "execute_result"
    }
   ],
   "source": [
    "N,M,K,len(df_train),len(df), mu"
   ]
  },
  {
   "cell_type": "code",
   "execution_count": 4,
   "id": "b8019704",
   "metadata": {},
   "outputs": [
    {
     "data": {
      "text/html": [
       "<div>\n",
       "<style scoped>\n",
       "    .dataframe tbody tr th:only-of-type {\n",
       "        vertical-align: middle;\n",
       "    }\n",
       "\n",
       "    .dataframe tbody tr th {\n",
       "        vertical-align: top;\n",
       "    }\n",
       "\n",
       "    .dataframe thead th {\n",
       "        text-align: right;\n",
       "    }\n",
       "</style>\n",
       "<table border=\"1\" class=\"dataframe\">\n",
       "  <thead>\n",
       "    <tr style=\"text-align: right;\">\n",
       "      <th></th>\n",
       "      <th>userId</th>\n",
       "      <th>movieId</th>\n",
       "      <th>rating</th>\n",
       "      <th>movie_idx</th>\n",
       "    </tr>\n",
       "  </thead>\n",
       "  <tbody>\n",
       "    <tr>\n",
       "      <th>7815138</th>\n",
       "      <td>53907</td>\n",
       "      <td>4643</td>\n",
       "      <td>3.0</td>\n",
       "      <td>4551</td>\n",
       "    </tr>\n",
       "    <tr>\n",
       "      <th>5716903</th>\n",
       "      <td>39345</td>\n",
       "      <td>485</td>\n",
       "      <td>2.0</td>\n",
       "      <td>483</td>\n",
       "    </tr>\n",
       "    <tr>\n",
       "      <th>17664671</th>\n",
       "      <td>122163</td>\n",
       "      <td>2193</td>\n",
       "      <td>3.0</td>\n",
       "      <td>2111</td>\n",
       "    </tr>\n",
       "    <tr>\n",
       "      <th>389781</th>\n",
       "      <td>2658</td>\n",
       "      <td>1223</td>\n",
       "      <td>5.0</td>\n",
       "      <td>1199</td>\n",
       "    </tr>\n",
       "    <tr>\n",
       "      <th>5855940</th>\n",
       "      <td>40287</td>\n",
       "      <td>58998</td>\n",
       "      <td>4.0</td>\n",
       "      <td>12640</td>\n",
       "    </tr>\n",
       "  </tbody>\n",
       "</table>\n",
       "</div>"
      ],
      "text/plain": [
       "          userId  movieId  rating  movie_idx\n",
       "7815138    53907     4643     3.0       4551\n",
       "5716903    39345      485     2.0        483\n",
       "17664671  122163     2193     3.0       2111\n",
       "389781      2658     1223     5.0       1199\n",
       "5855940    40287    58998     4.0      12640"
      ]
     },
     "execution_count": 4,
     "metadata": {},
     "output_type": "execute_result"
    }
   ],
   "source": [
    "df_train.iloc[0:5]"
   ]
  },
  {
   "cell_type": "code",
   "execution_count": 5,
   "id": "c9a82a71",
   "metadata": {},
   "outputs": [],
   "source": [
    "users = torch.tensor(df_train.userId.values)\n",
    "items = torch.tensor(df_train.movie_idx.values)\n",
    "ratings = torch.tensor(df_train.rating.values)"
   ]
  },
  {
   "cell_type": "code",
   "execution_count": 6,
   "id": "4a205f10",
   "metadata": {},
   "outputs": [
    {
     "data": {
      "text/plain": [
       "(tensor([ 53907,  39345, 122163,  ...,  75809,  83183,  69675]),\n",
       " tensor([4551,  483, 2111,  ..., 2342, 1081, 2678]),\n",
       " tensor([3.0000, 2.0000, 3.0000,  ..., 4.0000, 2.5000, 4.0000],\n",
       "        dtype=torch.float64))"
      ]
     },
     "execution_count": 6,
     "metadata": {},
     "output_type": "execute_result"
    }
   ],
   "source": [
    "users, items, ratings"
   ]
  },
  {
   "cell_type": "code",
   "execution_count": 7,
   "id": "acc4693e",
   "metadata": {},
   "outputs": [],
   "source": [
    "# test = torch.nn.Embedding(3,2)\n",
    "# a = torch.tensor([0,1,2])\n",
    "# test(a), a"
   ]
  },
  {
   "cell_type": "code",
   "execution_count": 8,
   "id": "fc7f70ec",
   "metadata": {
    "scrolled": true
   },
   "outputs": [
    {
     "name": "stdout",
     "output_type": "stream",
     "text": [
      "UserItemEmbeddingNet(\n",
      "  (u): Embedding(138493, 10)\n",
      "  (m): Embedding(26744, 10)\n",
      "  (u_bias): Embedding(138493, 1)\n",
      "  (m_bias): Embedding(26744, 1)\n",
      ")\n"
     ]
    }
   ],
   "source": [
    "class UserItemEmbeddingNet(torch.nn.Module):\n",
    "    def __init__(self, n_users, n_items, k_factors, embedding_dropout = 0.02, hidden = 10, dropouts = 0.2):\n",
    "\n",
    "        super(UserItemEmbeddingNet, self).__init__()\n",
    "        self.u = torch.nn.Embedding(n_users, k_factors)\n",
    "        self.m = torch.nn.Embedding(n_items, k_factors)\n",
    "        self.u_bias = torch.nn.Embedding(n_users, 1)\n",
    "        self.m_bias = torch.nn.Embedding(n_items, 1)\n",
    "\n",
    "    def forward(self, users, items):\n",
    "        uembed = self.u(users)\n",
    "        membed = self.m(items)\n",
    "        ubias = self.u_bias(users)\n",
    "        mbias = self.m_bias(items)\n",
    "        umdot = torch.mul(uembed,membed)\n",
    "        umdot = torch.sum(umdot,1)\n",
    "        umdot = torch.reshape(umdot, (umdot.shape[0], 1))\n",
    "        output = torch.add(umdot, ubias)\n",
    "        output = torch.add(output, mbias)\n",
    "        output = output - mu\n",
    "        output = torch.flatten(output)\n",
    "        return output\n",
    "\n",
    "UserItemEmbeddingNet = UserItemEmbeddingNet(N, M, K)\n",
    "print(UserItemEmbeddingNet)"
   ]
  },
  {
   "cell_type": "code",
   "execution_count": 9,
   "id": "cba8d285",
   "metadata": {},
   "outputs": [
    {
     "data": {
      "text/plain": [
       "(tensor([[2, 4, 3],\n",
       "         [3, 5, 4],\n",
       "         [4, 6, 5]]),\n",
       " 3,\n",
       " 3)"
      ]
     },
     "execution_count": 9,
     "metadata": {},
     "output_type": "execute_result"
    }
   ],
   "source": [
    "a = torch.tensor([[1],[2],[3]])\n",
    "b = torch.tensor([1,3,2])\n",
    "c = torch.add(a,b)\n",
    "c, a.shape[0], b.shape[0]"
   ]
  },
  {
   "cell_type": "code",
   "execution_count": 10,
   "id": "c0ac346b",
   "metadata": {},
   "outputs": [],
   "source": [
    "def fit():\n",
    "    for epoch in range(epochs):\n",
    "        print(\"Training epoch: \")\n",
    "        for i in tqdm(range((N - 1) // bs + 1)):\n",
    "            start_i = i * bs\n",
    "            end_i = start_i + bs\n",
    "            pred = UserItemEmbeddingNet(users, items)\n",
    "            loss_func = torch.nn.MSELoss()\n",
    "            loss = loss_func(pred.float(), ratings.float())\n",
    "\n",
    "            loss.backward()\n",
    "            with torch.no_grad():\n",
    "                for p in UserItemEmbeddingNet.parameters():\n",
    "                    p -= p.grad * lr\n",
    "                UserItemEmbeddingNet.zero_grad()"
   ]
  },
  {
   "cell_type": "code",
   "execution_count": null,
   "id": "91fec3be",
   "metadata": {},
   "outputs": [
    {
     "name": "stdout",
     "output_type": "stream",
     "text": [
      "Training epoch: \n"
     ]
    },
    {
     "name": "stderr",
     "output_type": "stream",
     "text": [
      "  3%|▎         | 4723/138493 [1:08:06<34:18:34,  1.08it/s]"
     ]
    }
   ],
   "source": [
    "fit()"
   ]
  },
  {
   "cell_type": "code",
   "execution_count": null,
   "id": "454dfe3a",
   "metadata": {},
   "outputs": [],
   "source": []
  }
 ],
 "metadata": {
  "kernelspec": {
   "display_name": "Python 3",
   "language": "python",
   "name": "python3"
  },
  "language_info": {
   "codemirror_mode": {
    "name": "ipython",
    "version": 3
   },
   "file_extension": ".py",
   "mimetype": "text/x-python",
   "name": "python",
   "nbconvert_exporter": "python",
   "pygments_lexer": "ipython3",
   "version": "3.8.8"
  }
 },
 "nbformat": 4,
 "nbformat_minor": 5
}
